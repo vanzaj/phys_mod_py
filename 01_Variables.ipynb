{
 "metadata": {
  "name": "01_Variables"
 },
 "nbformat": 3,
 "nbformat_minor": 0,
 "worksheets": [
  {
   "cells": [
    {
     "cell_type": "heading",
     "level": 1,
     "metadata": {},
     "source": [
      "Variables and values"
     ]
    },
    {
     "cell_type": "heading",
     "level": 2,
     "metadata": {},
     "source": [
      "1.1 Glorified calculator"
     ]
    },
    {
     "cell_type": "markdown",
     "metadata": {},
     "source": [
      "Unlike MATLAB, Python is a general purpose programming language. It can be used for anything: writing scripts, developing desktop (GUI) applications, games or full-stack web applications. It is also increasingly used for scientific computing. \n",
      "\n",
      "There are several ways to start Python: typing `python` in the terminal (`cmd.exe` on Windows) or clicking on IDLE icon. This will start the default Python interactive shell.\n",
      "\n",
      "    $ python\n",
      "    Python 2.7.4 (default, May  6 2013, 22:10:23)\n",
      "    [GCC 4.2.1 Compatible Apple LLVM 4.2 (clang-425.0.27)] on darwin\n",
      "    Type \"help\", \"copyright\", \"credits\" or \"license\" for more information.\n",
      "    >>> \n",
      "\n",
      "`>>>` is the standard Python **prompt**. that is, this symbol prompts you to enter a command. When using IPython, the prompt will look like `In [1]:`, where the number inside the square brackets is the input history number.\n",
      "\n",
      "The simplest kind of command that can be entered at the prompt is a mathematical expression, which is made up of operands (like numbers, for example) and operators (like the plus sign, +)."
     ]
    },
    {
     "cell_type": "code",
     "collapsed": false,
     "input": [
      "2 + 1"
     ],
     "language": "python",
     "metadata": {},
     "outputs": [
      {
       "output_type": "pyout",
       "prompt_number": 2,
       "text": [
        "3"
       ]
      }
     ],
     "prompt_number": 2
    },
    {
     "cell_type": "markdown",
     "metadata": {},
     "source": [
      "Just to be clear: in the example above, I typed `2 + 1` and then hit Enter (Shift+Enter in IPython notebook), and Python printed `3`. And when I say \u201cprinted,\u201d I really mean \u201cdisplayed on the screen,\u201d which might be confusing, but it\u2019s the way people talk. You could also explicitly instruct Python to `print` a result (but `print` is a default operation while in the interactive mode in any case)."
     ]
    },
    {
     "cell_type": "code",
     "collapsed": false,
     "input": [
      "print(2 + 1)"
     ],
     "language": "python",
     "metadata": {},
     "outputs": [
      {
       "output_type": "stream",
       "stream": "stdout",
       "text": [
        "3\n"
       ]
      }
     ],
     "prompt_number": 3
    },
    {
     "cell_type": "markdown",
     "metadata": {},
     "source": [
      "An expression can contain any number of operators and operands. You don\u2019t have to put spaces between them; some people do and some people don\u2019t."
     ]
    },
    {
     "cell_type": "code",
     "collapsed": false,
     "input": [
      "1+2+3+4+5+6+7+8+9"
     ],
     "language": "python",
     "metadata": {},
     "outputs": [
      {
       "output_type": "pyout",
       "prompt_number": 4,
       "text": [
        "45"
       ]
      }
     ],
     "prompt_number": 4
    },
    {
     "cell_type": "markdown",
     "metadata": {},
     "source": [
      "The other arithmetic operators are pretty much what you would expect. Subtraction is denoted by a minus sign, `-`; multiplication by an asterisk, `*`; division by a forward slash `/`."
     ]
    },
    {
     "cell_type": "code",
     "collapsed": false,
     "input": [
      "2*3 - 4/5"
     ],
     "language": "python",
     "metadata": {},
     "outputs": [
      {
       "output_type": "pyout",
       "prompt_number": 5,
       "text": [
        "6"
       ]
      }
     ],
     "prompt_number": 5
    },
    {
     "cell_type": "markdown",
     "metadata": {},
     "source": [
      "*Note:* In Python versions below 3, when '/' is used together with whole numbers, the result is also a whole number. In Python 3.x, '/' has been changed to always perform a **real division**. The origianl behavior of '/' in Python 2.x can be changed using `from __future__ import division`."
     ]
    },
    {
     "cell_type": "code",
     "collapsed": false,
     "input": [
      "from __future__ import division\n",
      "2*3 - 4/5"
     ],
     "language": "python",
     "metadata": {},
     "outputs": [
      {
       "output_type": "pyout",
       "prompt_number": 6,
       "text": [
        "5.2"
       ]
      }
     ],
     "prompt_number": 6
    },
    {
     "cell_type": "markdown",
     "metadata": {},
     "source": [
      "The order of operations is what you would expect from basic algebra: multi- plication and division happen before addition and subtraction. If you want to override the order of operations, you can use parentheses."
     ]
    },
    {
     "cell_type": "code",
     "collapsed": false,
     "input": [
      "2 * (3-4) / 5"
     ],
     "language": "python",
     "metadata": {},
     "outputs": [
      {
       "output_type": "pyout",
       "prompt_number": 7,
       "text": [
        "-0.4"
       ]
      }
     ],
     "prompt_number": 7
    },
    {
     "cell_type": "markdown",
     "metadata": {},
     "source": [
      "When I added the parentheses I also changed the spacing to make the grouping of operands clearer to a human reader. This is the first of many style guidelines I will recommend for making your programs easier to read. Style doesn\u2019t change what the program does; the Python interpreter doesn\u2019t check for style. But human readers do, and the most important human who will read your code is you.\n",
      "\n",
      "And that brings us to the First Theorem of debugging: \n",
      "\n",
      "> Readable code is debuggable code.\n",
      "\n",
      "It is worth spending time to make your code pretty; it will save you time de- bugging!\n",
      "\n",
      "The other common operator is exponentiation, which uses the `**` sequence (double asterisk). So 2 raised to the 16th power is"
     ]
    },
    {
     "cell_type": "code",
     "collapsed": false,
     "input": [
      "2**16"
     ],
     "language": "python",
     "metadata": {},
     "outputs": [
      {
       "output_type": "pyout",
       "prompt_number": 8,
       "text": [
        "65536"
       ]
      }
     ],
     "prompt_number": 8
    },
    {
     "cell_type": "markdown",
     "metadata": {},
     "source": [
      "As in basic algebra, exponentiation happens before multiplication and division, but again, you can use parentheses to override the order of operations."
     ]
    },
    {
     "cell_type": "heading",
     "level": 2,
     "metadata": {},
     "source": [
      "1.2 Math functions"
     ]
    },
    {
     "cell_type": "markdown",
     "metadata": {},
     "source": [
      "Python knows how to compute pretty much every math function you\u2019ve heard of. But you first need to **import** a math module.  Here\u2019s how you use trigonometric functions:"
     ]
    },
    {
     "cell_type": "code",
     "collapsed": false,
     "input": [
      "import math\n",
      "math.sin(1)"
     ],
     "language": "python",
     "metadata": {},
     "outputs": [
      {
       "output_type": "pyout",
       "prompt_number": 9,
       "text": [
        "0.8414709848078965"
       ]
      }
     ],
     "prompt_number": 9
    },
    {
     "cell_type": "markdown",
     "metadata": {},
     "source": [
      "Another way to \"import\" the content of a  modules is"
     ]
    },
    {
     "cell_type": "code",
     "collapsed": false,
     "input": [
      "from math import *\n",
      "sin(1)"
     ],
     "language": "python",
     "metadata": {},
     "outputs": [
      {
       "output_type": "pyout",
       "prompt_number": 10,
       "text": [
        "0.8414709848078965"
       ]
      }
     ],
     "prompt_number": 10
    },
    {
     "cell_type": "markdown",
     "metadata": {},
     "source": [
      "*Note:* The last form is fine for an interactive, but the 1st one is preferred in scripts.\n",
      "\n",
      "`sin(1)` is an example of a **function call**. The name of the function is `sin`, which is the usual abbreviation for the trigonometric sine. The value in parentheses is called the **argument**. All the trig functions in Python work in radians.\n",
      "\n",
      "Some functions take more than one argument, in which case they are separated by commas. For example, `atan2` computes the inverse tangent, which is the angle in radians between the positive x-axis and the point with the given $y$ and $x$ coordinates."
     ]
    },
    {
     "cell_type": "code",
     "collapsed": false,
     "input": [
      "atan2(1, 1)"
     ],
     "language": "python",
     "metadata": {},
     "outputs": [
      {
       "output_type": "pyout",
       "prompt_number": 11,
       "text": [
        "0.7853981633974483"
       ]
      }
     ],
     "prompt_number": 11
    },
    {
     "cell_type": "markdown",
     "metadata": {},
     "source": [
      "If that bit of trigonometry isn\u2019t familiar to you, don\u2019t worry about it. It\u2019s just an example of a function with multiple arguments."
     ]
    },
    {
     "cell_type": "markdown",
     "metadata": {},
     "source": [
      "Python also provides the exponential function, which computes $e$ raised to the given power. So `exp(1)` is just $e$."
     ]
    },
    {
     "cell_type": "code",
     "collapsed": false,
     "input": [
      "exp(1)"
     ],
     "language": "python",
     "metadata": {},
     "outputs": [
      {
       "output_type": "pyout",
       "prompt_number": 12,
       "text": [
        "2.718281828459045"
       ]
      }
     ],
     "prompt_number": 12
    },
    {
     "cell_type": "markdown",
     "metadata": {},
     "source": [
      "The inverse of `exp` is `log`, which computes the logarithm base $e$:"
     ]
    },
    {
     "cell_type": "code",
     "collapsed": false,
     "input": [
      "log(exp(3))"
     ],
     "language": "python",
     "metadata": {},
     "outputs": [
      {
       "output_type": "pyout",
       "prompt_number": 13,
       "text": [
        "3.0"
       ]
      }
     ],
     "prompt_number": 13
    },
    {
     "cell_type": "markdown",
     "metadata": {},
     "source": [
      "This example also demonstrates that function calls can be **nested**; that is, you can use the result from one function as an argument for another.\n",
      "\n",
      "More generally, you can use a function call as an operand in an expression."
     ]
    },
    {
     "cell_type": "code",
     "collapsed": false,
     "input": [
      "sqrt( sin(0.5)**2 + cos(0.5)**2 )"
     ],
     "language": "python",
     "metadata": {},
     "outputs": [
      {
       "output_type": "pyout",
       "prompt_number": 14,
       "text": [
        "1.0"
       ]
      }
     ],
     "prompt_number": 14
    },
    {
     "cell_type": "markdown",
     "metadata": {},
     "source": [
      "Just to be clear: that was to compute $\\sqrt{\\sin{0.5}^2 + \\cos{0.5}^2}$\n",
      "\n",
      "There are lots of other math functions, but this is not meant to be a reference manual. To learn about other functions, you should read the documentation."
     ]
    },
    {
     "cell_type": "heading",
     "level": 2,
     "metadata": {},
     "source": [
      "1.3 Documentation"
     ]
    },
    {
     "cell_type": "markdown",
     "metadata": {},
     "source": [
      "Python has a built-in help system that is accessible with `help()`.\n",
      "<pre><code>\n",
      "  In [1]: help()\n",
      "  \n",
      "  Welcome to Python 2.7!  This is the online help utility.\n",
      "\n",
      "  If this is your first time using Python, you should definitely check out\n",
      "  the tutorial on the Internet at http://docs.python.org/2.7/tutorial/.\n",
      "\n",
      "  Enter the name of any module, keyword, or topic to get help on writing\n",
      "  Python programs and using Python modules.  To quit this help utility and\n",
      "  return to the interpreter, just type \"quit\".\n",
      "  \n",
      "  To get a list of available modules, keywords, or topics, type \"modules\",\n",
      "  \"keywords\", or \"topics\".  Each module also comes with a one-line summary\n",
      "  of what it does; to list the modules whose summaries contain a given word\n",
      "  such as \"spam\", type \"modules spam\".\n",
      "\n",
      "  help>\n",
      "</code></pre>\n",
      "\n",
      "\n",
      "type `quit` to get back to prompt. \n",
      "\n",
      "The problem with this help is that it's more about core Python language features and not on specific functions. To look for information about specific modules and functions, it is much easier to use [online documentation](http://docs.python.org/). If you know the name of the function, it's still possible to do:"
     ]
    },
    {
     "cell_type": "code",
     "collapsed": false,
     "input": [
      "help(sin)"
     ],
     "language": "python",
     "metadata": {},
     "outputs": [
      {
       "output_type": "stream",
       "stream": "stdout",
       "text": [
        "Help on built-in function sin in module math:\n",
        "\n",
        "sin(...)\n",
        "    sin(x)\n",
        "    \n",
        "    Return the sine of x (measured in radians).\n",
        "\n"
       ]
      }
     ],
     "prompt_number": 15
    },
    {
     "cell_type": "markdown",
     "metadata": {},
     "source": [
      "IPython provides a shortcut"
     ]
    },
    {
     "cell_type": "code",
     "collapsed": false,
     "input": [
      "sin?"
     ],
     "language": "python",
     "metadata": {},
     "outputs": [],
     "prompt_number": 16
    },
    {
     "cell_type": "markdown",
     "metadata": {},
     "source": [
      "Careful, Python is **case sensitive**"
     ]
    },
    {
     "cell_type": "code",
     "collapsed": false,
     "input": [
      "SIN?"
     ],
     "language": "python",
     "metadata": {},
     "outputs": [
      {
       "output_type": "stream",
       "stream": "stdout",
       "text": [
        "Object `SIN` not found.\n"
       ]
      }
     ],
     "prompt_number": 17
    },
    {
     "cell_type": "heading",
     "level": 2,
     "metadata": {},
     "source": [
      "1.4 Variables"
     ]
    },
    {
     "cell_type": "markdown",
     "metadata": {},
     "source": [
      "One of the features that makes Python more powerful than a calculator is the ability to give a name to a value. A named value is called a **variable**.\n",
      "\n",
      "Python comes with a few predefined variables. For example, `math.pi` (or just `pi` if you used '`from math import *`') refers to the mathematical quantity $\\pi$, which is approximately"
     ]
    },
    {
     "cell_type": "code",
     "collapsed": false,
     "input": [
      "pi"
     ],
     "language": "python",
     "metadata": {},
     "outputs": [
      {
       "output_type": "pyout",
       "prompt_number": 19,
       "text": [
        "3.141592653589793"
       ]
      }
     ],
     "prompt_number": 19
    },
    {
     "cell_type": "markdown",
     "metadata": {},
     "source": [
      "You can use a variable name anywhere you can use a number; for example, as an operand in an expression:"
     ]
    },
    {
     "cell_type": "code",
     "collapsed": false,
     "input": [
      "pi * 3**2"
     ],
     "language": "python",
     "metadata": {},
     "outputs": [
      {
       "output_type": "pyout",
       "prompt_number": 25,
       "text": [
        "28.274333882308138"
       ]
      }
     ],
     "prompt_number": 25
    },
    {
     "cell_type": "code",
     "collapsed": false,
     "input": [
      "sin(pi/2)"
     ],
     "language": "python",
     "metadata": {},
     "outputs": [
      {
       "output_type": "pyout",
       "prompt_number": 24,
       "text": [
        "1.0"
       ]
      }
     ],
     "prompt_number": 24
    },
    {
     "cell_type": "markdown",
     "metadata": {},
     "source": [
      "Whenever you evaluate an expression, Python assigns the result to a variable named '`_`' (yes, an underscore). You can use it in a subsequent calculation as shorthand for \u201cthe value of the previous expression\u201d."
     ]
    },
    {
     "cell_type": "code",
     "collapsed": false,
     "input": [
      "3**2 + 4**2"
     ],
     "language": "python",
     "metadata": {},
     "outputs": [
      {
       "output_type": "pyout",
       "prompt_number": 28,
       "text": [
        "25"
       ]
      }
     ],
     "prompt_number": 28
    },
    {
     "cell_type": "code",
     "collapsed": false,
     "input": [
      "sqrt(_)"
     ],
     "language": "python",
     "metadata": {},
     "outputs": [
      {
       "output_type": "pyout",
       "prompt_number": 29,
       "text": [
        "5.0"
       ]
      }
     ],
     "prompt_number": 29
    },
    {
     "cell_type": "markdown",
     "metadata": {},
     "source": [
      "But keep in mind that the value of '`_`' changes every time you evaluate an expression."
     ]
    },
    {
     "cell_type": "heading",
     "level": 2,
     "metadata": {},
     "source": [
      "1.5 Assignment statements"
     ]
    },
    {
     "cell_type": "markdown",
     "metadata": {},
     "source": [
      "You can create your own variables, and give them values, with an **assignment statement**. The assignment operator is the equals sign, =."
     ]
    },
    {
     "cell_type": "code",
     "collapsed": false,
     "input": [
      "x = 6 * 7\n",
      "print \"the value of x is\", x"
     ],
     "language": "python",
     "metadata": {},
     "outputs": [
      {
       "output_type": "stream",
       "stream": "stdout",
       "text": [
        "the value of x is 42\n"
       ]
      }
     ],
     "prompt_number": 34
    },
    {
     "cell_type": "markdown",
     "metadata": {},
     "source": [
      "This example creates a new variable named `x` and assigns it the value of the expression `6 * 7`. In Python, an assignment doesn't generage an output automatically, but we can easily check the computed value with a `print` statement.\n",
      "\n",
      "In every assignment statement, the left side has to be a **legal variable name**. The right side can be any expression, including function calls.\n",
      "\n",
      "Almost any sequence of lower and upper case letters is a legal variable name. An underscore, '_', can also be used as part of the name. Numbers are fine, but not at the beginning. Spaces are not allowed. Variable names are \u201ccase sensitive\u201d, so `x` and `X` are different variables."
     ]
    },
    {
     "cell_type": "code",
     "collapsed": false,
     "input": [
      "fibonacci0 = 1\n",
      "LENGTH = 10\n",
      "first_name = 'allen'"
     ],
     "language": "python",
     "metadata": {},
     "outputs": [],
     "prompt_number": 43
    },
    {
     "cell_type": "markdown",
     "metadata": {},
     "source": [
      "The third line demonstrates that not everything in Python is a number. A sequence of characters in single (or double) quotes is a string.\n",
      "\n",
      "Although some varaibles such as `pi` are predefined, you are free to reassign them."
     ]
    },
    {
     "cell_type": "code",
     "collapsed": false,
     "input": [
      "pi = 3\n",
      "print \"pi is now\", pi"
     ],
     "language": "python",
     "metadata": {},
     "outputs": [
      {
       "output_type": "stream",
       "stream": "stdout",
       "text": [
        "pi is now 3\n"
       ]
      }
     ],
     "prompt_number": 46
    },
    {
     "cell_type": "markdown",
     "metadata": {},
     "source": [
      " but it is probably not a good idea to change the value of pi!"
     ]
    },
    {
     "cell_type": "heading",
     "level": 2,
     "metadata": {},
     "source": [
      "1.6 Why variables?"
     ]
    },
    {
     "cell_type": "markdown",
     "metadata": {},
     "source": [
      "The most common reasons to use variables are\n",
      "\n",
      "* To avoid recomputing a value that is used repeatedly. For example, if you are performing computations involving $e$, \n",
      "  you might want to compute it once and save the result."
     ]
    },
    {
     "cell_type": "code",
     "collapsed": false,
     "input": [
      "e = exp(1)"
     ],
     "language": "python",
     "metadata": {},
     "outputs": [],
     "prompt_number": 50
    },
    {
     "cell_type": "markdown",
     "metadata": {},
     "source": [
      "* To make the connection between the code and the underlying mathematics more apparent. If you are computing the area of a circle,\n",
      "  you might want to use a variable named `r`:"
     ]
    },
    {
     "cell_type": "code",
     "collapsed": false,
     "input": [
      "r = 3\n",
      "area = pi * r**2\n",
      "area"
     ],
     "language": "python",
     "metadata": {},
     "outputs": [
      {
       "output_type": "pyout",
       "prompt_number": 51,
       "text": [
        "27"
       ]
      }
     ],
     "prompt_number": 51
    },
    {
     "cell_type": "markdown",
     "metadata": {},
     "source": [
      "That way your code resembles the familiar formula $\\pi r^2$.\n",
      "\n",
      "* To break a long computation into a sequence of steps. Suppose you are evaluating a big, hairy expression like this:\n",
      "\n",
      "    `ans = ((x - theta) * sqrt(2 * pi) * sigma) ** (-1) * exp(-1./2 * (log(x - theta) - zeta)**2 / sigma**2)`\n",
      "\n",
      "  But often it is better to break the computation into a sequence of steps and assign intermediate results to variables.\n",
      "\n",
      "     `shiftx = x - theta`  \n",
      "     `denom = shiftx * sqrt(2 * pi) * sigma`  \n",
      "     `temp = (log(shiftx) - zeta) / sigma`  \n",
      "     `exponent = -1/2 * temp**2`  \n",
      "     `ans = exp(exponent) / denom`  \n",
      "\n",
      "The names of the intermediate variables explain their role in the computation. `shiftx` is the value of `x` shifted by `theta`.\n",
      "It should be no surprise that `exponent` is the argument of `exp`, and `denom` ends up in the denominator. Choosing informative names makes the code easier to read and understand (see the First Theorem of Debugging)."
     ]
    },
    {
     "cell_type": "heading",
     "level": 2,
     "metadata": {},
     "source": [
      "1.7 Errors"
     ]
    },
    {
     "cell_type": "markdown",
     "metadata": {},
     "source": [
      "It\u2019s early, but now would be a good time to start making errors. Whenever you learn a new feature, you should try to make as many errors as possible, as soon as possible.\n",
      "\n",
      "When you make deliberate errors, you get to see what the error messages look like. Later, when you make accidental errors, you will know what the messages mean. A common error for beginning programmers is leaving out the `*` for multiplication."
     ]
    },
    {
     "cell_type": "code",
     "collapsed": false,
     "input": [
      "area = pi r**2"
     ],
     "language": "python",
     "metadata": {},
     "outputs": [
      {
       "ename": "SyntaxError",
       "evalue": "invalid syntax (<ipython-input-55-d68d1f693622>, line 1)",
       "output_type": "pyerr",
       "traceback": [
        "\u001b[0;36m  File \u001b[0;32m\"<ipython-input-55-d68d1f693622>\"\u001b[0;36m, line \u001b[0;32m1\u001b[0m\n\u001b[0;31m    area = pi r**2\u001b[0m\n\u001b[0m              ^\u001b[0m\n\u001b[0;31mSyntaxError\u001b[0m\u001b[0;31m:\u001b[0m invalid syntax\n"
       ]
      }
     ],
     "prompt_number": 55
    },
    {
     "cell_type": "markdown",
     "metadata": {},
     "source": [
      "The error message indicates that, after seeing the operand `pi`, Python was \u201cexpecting\u201d to see an operator, like `*`. Instead, it got a variable name, which is the \u201cinvalid syntax\u201d indicated by the caret, ^ (also called a \u201chat\u201d) character.\n",
      "\n",
      "Another common error is to leave out the parentheses around the arguments of a function. For example, in math notation, it is common to write something like $\\sin{\\pi}$ , but not in Python."
     ]
    },
    {
     "cell_type": "code",
     "collapsed": false,
     "input": [
      "sin pi"
     ],
     "language": "python",
     "metadata": {},
     "outputs": [
      {
       "ename": "SyntaxError",
       "evalue": "invalid syntax (<ipython-input-56-a0064d755667>, line 1)",
       "output_type": "pyerr",
       "traceback": [
        "\u001b[0;36m  File \u001b[0;32m\"<ipython-input-56-a0064d755667>\"\u001b[0;36m, line \u001b[0;32m1\u001b[0m\n\u001b[0;31m    sin pi\u001b[0m\n\u001b[0m         ^\u001b[0m\n\u001b[0;31mSyntaxError\u001b[0m\u001b[0;31m:\u001b[0m invalid syntax\n"
       ]
      }
     ],
     "prompt_number": 56
    },
    {
     "cell_type": "markdown",
     "metadata": {},
     "source": [
      "Here Python catches the error again and throws the `SyntaxError` message since it knows that `sin` expects and argument. But there are situations where the syntax is correct, the code runs and no error is generated, but the logic is broken. Which brings us to the Second Theorem of Debugging:\n",
      "\n",
      "> The only thing worse than getting an error message is not getting an error message.\n",
      "\n",
      "Beginning programmers hate error messages and do everything they can to make them go away. Experienced programmers know that error messages are your friend. They can be hard to understand, and even misleading, but it is worth making some effort to understand them.\n",
      "\n",
      "Here\u2019s another common rookie error. If you were translating the following mathematical expression into Python:\n",
      "$$\\frac{1}{2\\sqrt{\\pi}}$$\n",
      "\n",
      "like `1 / 2 * sqrt(pi)`"
     ]
    },
    {
     "cell_type": "markdown",
     "metadata": {},
     "source": [
      "But that would be wrong. So very wrong."
     ]
    }
   ],
   "metadata": {}
  }
 ]
}