{
 "metadata": {
  "name": "01_Variables"
 },
 "nbformat": 3,
 "nbformat_minor": 0,
 "worksheets": [
  {
   "cells": [
    {
     "cell_type": "heading",
     "level": 1,
     "metadata": {},
     "source": [
      "Variables and values"
     ]
    },
    {
     "cell_type": "heading",
     "level": 2,
     "metadata": {},
     "source": [
      "1.1 Glorified calculator"
     ]
    },
    {
     "cell_type": "markdown",
     "metadata": {},
     "source": [
      "Unlike MATLAB, Python is a general purpose programming language. It can be used for anything: writing scripts, developing desktop (GUI) applications, games or full-stack web applications. It is also increasingly used for scientific computing. \n",
      "\n",
      "There are several ways to start Python: typing `python` in the terminal (`cmd.exe` on Windows) or clicking on IDLE icon. This will start the default Python interactive shell.\n",
      "<pre>\n",
      "    $ python\n",
      "    Python 2.7.4 (default, May  6 2013, 22:10:23)\n",
      "    [GCC 4.2.1 Compatible Apple LLVM 4.2 (clang-425.0.27)] on darwin\n",
      "    Type \"help\", \"copyright\", \"credits\" or \"license\" for more information.\n",
      "    >>> \n",
      "</pre>\n",
      "`>>>` is the standard Python **prompt**. that is, this symbol prompts you to enter a command. When using IPython, the prompt will look like `In [1]:`, where the number inside the square brackets is the input history number.\n",
      "\n",
      "The simplest kind of command that can be entered at the prompt is a mathematical expression, which is made up of operands (like numbers, for example) and operators (like the plus sign, +)."
     ]
    },
    {
     "cell_type": "code",
     "collapsed": false,
     "input": [
      "2 + 1"
     ],
     "language": "python",
     "metadata": {},
     "outputs": [
      {
       "output_type": "pyout",
       "prompt_number": 1,
       "text": [
        "3"
       ]
      }
     ],
     "prompt_number": 1
    },
    {
     "cell_type": "markdown",
     "metadata": {},
     "source": [
      "Just to be clear: in the example above, I typed `2 + 1` and then hit Enter (Shift+Enter in IPython notebook), and Python printed `3`. And when I say \u201cprinted,\u201d I really mean \u201cdisplayed on the screen,\u201d which might be confusing, but it\u2019s the way people talk. You could also explicitly instruct Python to \"print\" a result (but `print` is a default operation while in the interactive mode in any case)."
     ]
    },
    {
     "cell_type": "code",
     "collapsed": false,
     "input": [
      "print(2 + 1)"
     ],
     "language": "python",
     "metadata": {},
     "outputs": [
      {
       "output_type": "stream",
       "stream": "stdout",
       "text": [
        "3\n"
       ]
      }
     ],
     "prompt_number": 2
    },
    {
     "cell_type": "markdown",
     "metadata": {},
     "source": [
      "An expression can contain any number of operators and operands. You don\u2019t have to put spaces between them; some people do and some people don\u2019t."
     ]
    },
    {
     "cell_type": "code",
     "collapsed": false,
     "input": [
      "1+2+3+4+5+6+7+8+9"
     ],
     "language": "python",
     "metadata": {},
     "outputs": [
      {
       "output_type": "pyout",
       "prompt_number": 3,
       "text": [
        "45"
       ]
      }
     ],
     "prompt_number": 3
    },
    {
     "cell_type": "markdown",
     "metadata": {},
     "source": [
      "The other arithmetic operators are pretty much what you would expect. Subtraction is denoted by a minus sign, `-`; multiplication by an asterisk, `*`; division by a forward slash `/`."
     ]
    },
    {
     "cell_type": "code",
     "collapsed": false,
     "input": [
      "2*3 - 4/5"
     ],
     "language": "python",
     "metadata": {},
     "outputs": [
      {
       "output_type": "pyout",
       "prompt_number": 4,
       "text": [
        "6"
       ]
      }
     ],
     "prompt_number": 4
    },
    {
     "cell_type": "markdown",
     "metadata": {},
     "source": [
      "*Note:* In Python versions below 3, when '/' is used together with whole numbers, the result is also a whole number. In Python 3.x, '/' has been changed to always perform a **real division**. The origianl behavior of '/' in Python 2.x can be changed using `from __future__ import division`."
     ]
    },
    {
     "cell_type": "code",
     "collapsed": false,
     "input": [
      "from __future__ import division\n",
      "2*3 - 4/5"
     ],
     "language": "python",
     "metadata": {},
     "outputs": [
      {
       "output_type": "pyout",
       "prompt_number": 5,
       "text": [
        "5.2"
       ]
      }
     ],
     "prompt_number": 5
    },
    {
     "cell_type": "markdown",
     "metadata": {},
     "source": [
      "The order of operations is what you would expect from basic algebra: multi- plication and division happen before addition and subtraction. If you want to override the order of operations, you can use parentheses."
     ]
    },
    {
     "cell_type": "code",
     "collapsed": false,
     "input": [
      "2 * (3-4) / 5"
     ],
     "language": "python",
     "metadata": {},
     "outputs": [
      {
       "output_type": "pyout",
       "prompt_number": 6,
       "text": [
        "-0.4"
       ]
      }
     ],
     "prompt_number": 6
    },
    {
     "cell_type": "markdown",
     "metadata": {},
     "source": [
      "When I added the parentheses I also changed the spacing to make the grouping of operands clearer to a human reader. This is the first of many style guidelines I will recommend for making your programs easier to read. Style doesn\u2019t change what the program does; the Python interpreter doesn\u2019t check for style. But human readers do, and the most important human who will read your code is you.\n",
      "\n",
      "And that brings us to the First Theorem of debugging: \n",
      "\n",
      "> Readable code is debuggable code.\n",
      "\n",
      "It is worth spending time to make your code pretty; it will save you time de- bugging!\n",
      "\n",
      "The other common operator is exponentiation, which uses the `**` sequence (double asterisk). So 2 raised to the 16th power is"
     ]
    },
    {
     "cell_type": "code",
     "collapsed": false,
     "input": [
      "2**16"
     ],
     "language": "python",
     "metadata": {},
     "outputs": [
      {
       "output_type": "pyout",
       "prompt_number": 7,
       "text": [
        "65536"
       ]
      }
     ],
     "prompt_number": 7
    },
    {
     "cell_type": "markdown",
     "metadata": {},
     "source": [
      "As in basic algebra, exponentiation happens before multiplication and division, but again, you can use parentheses to override the order of operations."
     ]
    },
    {
     "cell_type": "heading",
     "level": 2,
     "metadata": {},
     "source": [
      "1.2 Math functions"
     ]
    },
    {
     "cell_type": "markdown",
     "metadata": {},
     "source": [
      "Python knows how to compute pretty much every math function you\u2019ve heard of. But you first need to **import** a math module.  Here\u2019s how you use trigonometric functions:"
     ]
    },
    {
     "cell_type": "code",
     "collapsed": false,
     "input": [
      "import math\n",
      "math.sin(1)"
     ],
     "language": "python",
     "metadata": {},
     "outputs": [
      {
       "output_type": "pyout",
       "prompt_number": 8,
       "text": [
        "0.8414709848078965"
       ]
      }
     ],
     "prompt_number": 8
    },
    {
     "cell_type": "markdown",
     "metadata": {},
     "source": [
      "Another way to \"import\" the content of a  modules is"
     ]
    },
    {
     "cell_type": "code",
     "collapsed": false,
     "input": [
      "from math import *\n",
      "sin(1)"
     ],
     "language": "python",
     "metadata": {},
     "outputs": [
      {
       "output_type": "pyout",
       "prompt_number": 9,
       "text": [
        "0.8414709848078965"
       ]
      }
     ],
     "prompt_number": 9
    },
    {
     "cell_type": "markdown",
     "metadata": {},
     "source": [
      "*Note:* The last form is fine for an interactive, but the 1st one is preferred in scripts.\n",
      "\n",
      "`sin(1)` is an example of a **function call**. The name of the function is `sin`, which is the usual abbreviation for the trigonometric sine. The value in parentheses is called the **argument**. All the trig functions in Python work in radians.\n",
      "\n",
      "Some functions take more than one argument, in which case they are separated by commas. For example, `atan2` computes the inverse tangent, which is the angle in radians between the positive x-axis and the point with the given $y$ and $x$ coordinates."
     ]
    },
    {
     "cell_type": "code",
     "collapsed": false,
     "input": [
      "atan2(1, 1)"
     ],
     "language": "python",
     "metadata": {},
     "outputs": [
      {
       "output_type": "pyout",
       "prompt_number": 10,
       "text": [
        "0.7853981633974483"
       ]
      }
     ],
     "prompt_number": 10
    },
    {
     "cell_type": "markdown",
     "metadata": {},
     "source": [
      "If that bit of trigonometry isn\u2019t familiar to you, don\u2019t worry about it. It\u2019s just an example of a function with multiple arguments."
     ]
    },
    {
     "cell_type": "markdown",
     "metadata": {},
     "source": [
      "Python also provides the exponential function, which computes $e$ raised to the given power. So `exp(1)` is just $e$."
     ]
    },
    {
     "cell_type": "code",
     "collapsed": false,
     "input": [
      "exp(1)"
     ],
     "language": "python",
     "metadata": {},
     "outputs": [
      {
       "output_type": "pyout",
       "prompt_number": 11,
       "text": [
        "2.718281828459045"
       ]
      }
     ],
     "prompt_number": 11
    },
    {
     "cell_type": "markdown",
     "metadata": {},
     "source": [
      "The inverse of `exp` is `log`, which computes the logarithm base $e$:"
     ]
    },
    {
     "cell_type": "code",
     "collapsed": false,
     "input": [
      "log(exp(3))"
     ],
     "language": "python",
     "metadata": {},
     "outputs": [
      {
       "output_type": "pyout",
       "prompt_number": 12,
       "text": [
        "3.0"
       ]
      }
     ],
     "prompt_number": 12
    },
    {
     "cell_type": "markdown",
     "metadata": {},
     "source": [
      "This example also demonstrates that function calls can be **nested**; that is, you can use the result from one function as an argument for another.\n",
      "\n",
      "More generally, you can use a function call as an operand in an expression."
     ]
    },
    {
     "cell_type": "code",
     "collapsed": false,
     "input": [
      "sqrt( sin(0.5)**2 + cos(0.5)**2 )"
     ],
     "language": "python",
     "metadata": {},
     "outputs": [
      {
       "output_type": "pyout",
       "prompt_number": 13,
       "text": [
        "1.0"
       ]
      }
     ],
     "prompt_number": 13
    },
    {
     "cell_type": "markdown",
     "metadata": {},
     "source": [
      "Just to be clear: that was to compute $\\sqrt{\\sin{0.5}^2 + \\cos{0.5}^2}$\n",
      "\n",
      "There are lots of other math functions, but this is not meant to be a reference manual. To learn about other functions, you should read the documentation."
     ]
    },
    {
     "cell_type": "heading",
     "level": 2,
     "metadata": {},
     "source": [
      "1.3 Documentation"
     ]
    },
    {
     "cell_type": "markdown",
     "metadata": {},
     "source": [
      "Python has a built-in help system that is accessible with `help()`.\n",
      "<pre>\n",
      "  In [1]: help()\n",
      "  \n",
      "  Welcome to Python 2.7!  This is the online help utility.\n",
      "\n",
      "  If this is your first time using Python, you should definitely check out\n",
      "  the tutorial on the Internet at http://docs.python.org/2.7/tutorial/.\n",
      "\n",
      "  Enter the name of any module, keyword, or topic to get help on writing\n",
      "  Python programs and using Python modules.  To quit this help utility and\n",
      "  return to the interpreter, just type \"quit\".\n",
      "  \n",
      "  To get a list of available modules, keywords, or topics, type \"modules\",\n",
      "  \"keywords\", or \"topics\".  Each module also comes with a one-line summary\n",
      "  of what it does; to list the modules whose summaries contain a given word\n",
      "  such as \"spam\", type \"modules spam\".\n",
      "\n",
      "  help>\n",
      "</pre>\n",
      "\n",
      "\n",
      "type `quit` to get back to prompt. \n",
      "\n",
      "The problem with this help is that it's more about core Python language features and not on specific functions. To look for information about specific modules and functions, it is much easier to use [online documentation](http://docs.python.org/). If you know the name of the function, it's still possible to do:"
     ]
    },
    {
     "cell_type": "code",
     "collapsed": false,
     "input": [
      "help(sin)"
     ],
     "language": "python",
     "metadata": {},
     "outputs": [
      {
       "output_type": "stream",
       "stream": "stdout",
       "text": [
        "Help on built-in function sin in module math:\n",
        "\n",
        "sin(...)\n",
        "    sin(x)\n",
        "    \n",
        "    Return the sine of x (measured in radians).\n",
        "\n"
       ]
      }
     ],
     "prompt_number": 14
    },
    {
     "cell_type": "markdown",
     "metadata": {},
     "source": [
      "IPython provides a shortcut"
     ]
    },
    {
     "cell_type": "code",
     "collapsed": false,
     "input": [
      "sin?"
     ],
     "language": "python",
     "metadata": {},
     "outputs": [],
     "prompt_number": 15
    },
    {
     "cell_type": "markdown",
     "metadata": {},
     "source": [
      "Careful, Python is **case sensitive**"
     ]
    },
    {
     "cell_type": "code",
     "collapsed": false,
     "input": [
      "SIN?"
     ],
     "language": "python",
     "metadata": {},
     "outputs": [
      {
       "output_type": "stream",
       "stream": "stdout",
       "text": [
        "Object `SIN` not found.\n"
       ]
      }
     ],
     "prompt_number": 16
    },
    {
     "cell_type": "heading",
     "level": 2,
     "metadata": {},
     "source": [
      "1.4 Variables"
     ]
    },
    {
     "cell_type": "markdown",
     "metadata": {},
     "source": [
      "One of the features that makes Python more powerful than a calculator is the ability to give a name to a value. A named value is called a **variable**.\n",
      "\n",
      "Python comes with a few predefined variables. For example, `math.pi` (or just `pi` if you used '`from math import *`') refers to the mathematical quantity $\\pi$, which is approximately"
     ]
    },
    {
     "cell_type": "code",
     "collapsed": false,
     "input": [
      "pi"
     ],
     "language": "python",
     "metadata": {},
     "outputs": [
      {
       "output_type": "pyout",
       "prompt_number": 17,
       "text": [
        "3.141592653589793"
       ]
      }
     ],
     "prompt_number": 17
    },
    {
     "cell_type": "markdown",
     "metadata": {},
     "source": [
      "You can use a variable name anywhere you can use a number; for example, as an operand in an expression:"
     ]
    },
    {
     "cell_type": "code",
     "collapsed": false,
     "input": [
      "pi * 3**2"
     ],
     "language": "python",
     "metadata": {},
     "outputs": [
      {
       "output_type": "pyout",
       "prompt_number": 18,
       "text": [
        "28.274333882308138"
       ]
      }
     ],
     "prompt_number": 18
    },
    {
     "cell_type": "code",
     "collapsed": false,
     "input": [
      "sin(pi/2)"
     ],
     "language": "python",
     "metadata": {},
     "outputs": [
      {
       "output_type": "pyout",
       "prompt_number": 19,
       "text": [
        "1.0"
       ]
      }
     ],
     "prompt_number": 19
    },
    {
     "cell_type": "markdown",
     "metadata": {},
     "source": [
      "Whenever you evaluate an expression, Python assigns the result to a variable named '`_`' (yes, an underscore). You can use it in a subsequent calculation as shorthand for \u201cthe value of the previous expression\u201d."
     ]
    },
    {
     "cell_type": "code",
     "collapsed": false,
     "input": [
      "3**2 + 4**2"
     ],
     "language": "python",
     "metadata": {},
     "outputs": [
      {
       "output_type": "pyout",
       "prompt_number": 20,
       "text": [
        "25"
       ]
      }
     ],
     "prompt_number": 20
    },
    {
     "cell_type": "code",
     "collapsed": false,
     "input": [
      "sqrt(_)"
     ],
     "language": "python",
     "metadata": {},
     "outputs": [
      {
       "output_type": "pyout",
       "prompt_number": 21,
       "text": [
        "5.0"
       ]
      }
     ],
     "prompt_number": 21
    },
    {
     "cell_type": "markdown",
     "metadata": {},
     "source": [
      "But keep in mind that the value of '`_`' changes every time you evaluate an expression."
     ]
    },
    {
     "cell_type": "heading",
     "level": 2,
     "metadata": {},
     "source": [
      "1.5 Assignment statements"
     ]
    },
    {
     "cell_type": "markdown",
     "metadata": {},
     "source": [
      "You can create your own variables, and give them values, with an **assignment statement**. The assignment operator is the equals sign, =."
     ]
    },
    {
     "cell_type": "code",
     "collapsed": false,
     "input": [
      "x = 6 * 7\n",
      "x"
     ],
     "language": "python",
     "metadata": {},
     "outputs": [
      {
       "output_type": "pyout",
       "prompt_number": 22,
       "text": [
        "42"
       ]
      }
     ],
     "prompt_number": 22
    },
    {
     "cell_type": "markdown",
     "metadata": {},
     "source": [
      "This example creates a new variable named `x` and assigns it the value of the expression `6 * 7`. In Python, an assignment doesn't generage an output automatically, but we can easily check the computed value with a `print` statement.\n",
      "\n",
      "In every assignment statement, the left side has to be a **legal variable name**. The right side can be any expression, including function calls.\n",
      "\n",
      "Almost any sequence of lower and upper case letters is a legal variable name. An underscore, '_', can also be used as part of the name. Numbers are fine, but not at the beginning. Spaces are not allowed. Variable names are \u201ccase sensitive\u201d, so `x` and `X` are different variables."
     ]
    },
    {
     "cell_type": "code",
     "collapsed": false,
     "input": [
      "fibonacci0 = 1\n",
      "LENGTH = 10\n",
      "first_name = 'allen'"
     ],
     "language": "python",
     "metadata": {},
     "outputs": [],
     "prompt_number": 23
    },
    {
     "cell_type": "markdown",
     "metadata": {},
     "source": [
      "The third line demonstrates that not everything in Python is a number. A sequence of characters in single (or double) quotes is a string.\n",
      "\n",
      "Although some varaibles such as `pi` are predefined, you are free to reassign them."
     ]
    },
    {
     "cell_type": "code",
     "collapsed": false,
     "input": [
      "pi = 3\n",
      "print \"pi is now\", pi"
     ],
     "language": "python",
     "metadata": {},
     "outputs": [
      {
       "output_type": "stream",
       "stream": "stdout",
       "text": [
        "pi is now 3\n"
       ]
      }
     ],
     "prompt_number": 24
    },
    {
     "cell_type": "markdown",
     "metadata": {},
     "source": [
      " But it is probably not a good idea to change the value of $\\pi$!"
     ]
    },
    {
     "cell_type": "heading",
     "level": 2,
     "metadata": {},
     "source": [
      "1.6 Why variables?"
     ]
    },
    {
     "cell_type": "markdown",
     "metadata": {},
     "source": [
      "The most common reasons to use variables are\n",
      "\n",
      "* To avoid recomputing a value that is used repeatedly. For example, if you are performing computations involving $e$, \n",
      "  you might want to compute it once and save the result."
     ]
    },
    {
     "cell_type": "code",
     "collapsed": false,
     "input": [
      "e = exp(1)"
     ],
     "language": "python",
     "metadata": {},
     "outputs": [],
     "prompt_number": 25
    },
    {
     "cell_type": "markdown",
     "metadata": {},
     "source": [
      "* To make the connection between the code and the underlying mathematics more apparent. If you are computing the area of a circle,\n",
      "  you might want to use a variable named `r`:"
     ]
    },
    {
     "cell_type": "code",
     "collapsed": false,
     "input": [
      "r = 3\n",
      "area = pi * r**2\n",
      "area"
     ],
     "language": "python",
     "metadata": {},
     "outputs": [
      {
       "output_type": "pyout",
       "prompt_number": 26,
       "text": [
        "27"
       ]
      }
     ],
     "prompt_number": 26
    },
    {
     "cell_type": "markdown",
     "metadata": {},
     "source": [
      "That way your code resembles the familiar formula $\\pi r^2$.\n",
      "\n",
      "* To break a long computation into a sequence of steps. Suppose you are evaluating a big, hairy expression like this:\n",
      "\n",
      "    `ans = ((x - theta) * sqrt(2 * pi) * sigma) ** (-1) * exp(-1./2 * (log(x - theta) - zeta)**2 / sigma**2)`\n",
      "\n",
      "  But often it is better to break the computation into a sequence of steps and assign intermediate results to variables.\n",
      "<pre>\n",
      "shiftx = x - theta\n",
      "denom = shiftx * sqrt(2 * pi) * sigma\n",
      "temp = (log(shiftx) - zeta) / sigma\n",
      "exponent = -1/2 * temp**2\n",
      "ans = exp(exponent) / denom\n",
      "</pre>\n",
      "The names of the intermediate variables explain their role in the computation. `shiftx` is the value of `x` shifted by `theta`.\n",
      "It should be no surprise that `exponent` is the argument of `exp`, and `denom` ends up in the denominator. Choosing informative names makes the code easier to read and understand (see the First Theorem of Debugging)."
     ]
    },
    {
     "cell_type": "heading",
     "level": 2,
     "metadata": {},
     "source": [
      "1.7 Errors"
     ]
    },
    {
     "cell_type": "markdown",
     "metadata": {},
     "source": [
      "It\u2019s early, but now would be a good time to start making errors. Whenever you learn a new feature, you should try to make as many errors as possible, as soon as possible.\n",
      "\n",
      "When you make deliberate errors, you get to see what the error messages look like. Later, when you make accidental errors, you will know what the messages mean. A common error for beginning programmers is leaving out the `*` for multiplication."
     ]
    },
    {
     "cell_type": "code",
     "collapsed": false,
     "input": [
      "area = pi r**2"
     ],
     "language": "python",
     "metadata": {},
     "outputs": [
      {
       "ename": "SyntaxError",
       "evalue": "invalid syntax (<ipython-input-27-d68d1f693622>, line 1)",
       "output_type": "pyerr",
       "traceback": [
        "\u001b[0;36m  File \u001b[0;32m\"<ipython-input-27-d68d1f693622>\"\u001b[0;36m, line \u001b[0;32m1\u001b[0m\n\u001b[0;31m    area = pi r**2\u001b[0m\n\u001b[0m              ^\u001b[0m\n\u001b[0;31mSyntaxError\u001b[0m\u001b[0;31m:\u001b[0m invalid syntax\n"
       ]
      }
     ],
     "prompt_number": 27
    },
    {
     "cell_type": "markdown",
     "metadata": {},
     "source": [
      "The error message indicates that, after seeing the operand `pi`, Python was \u201cexpecting\u201d to see an operator, like `*`. Instead, it got a variable name, which is the \u201cinvalid syntax\u201d indicated by the caret, ^ (also called a \u201chat\u201d) character.\n",
      "\n",
      "Another common error is to leave out the parentheses around the arguments of a function. For example, in math notation, it is common to write something like $\\sin{\\pi}$ , but not in Python."
     ]
    },
    {
     "cell_type": "code",
     "collapsed": false,
     "input": [
      "sin pi"
     ],
     "language": "python",
     "metadata": {},
     "outputs": [
      {
       "ename": "SyntaxError",
       "evalue": "invalid syntax (<ipython-input-28-a0064d755667>, line 1)",
       "output_type": "pyerr",
       "traceback": [
        "\u001b[0;36m  File \u001b[0;32m\"<ipython-input-28-a0064d755667>\"\u001b[0;36m, line \u001b[0;32m1\u001b[0m\n\u001b[0;31m    sin pi\u001b[0m\n\u001b[0m         ^\u001b[0m\n\u001b[0;31mSyntaxError\u001b[0m\u001b[0;31m:\u001b[0m invalid syntax\n"
       ]
      }
     ],
     "prompt_number": 28
    },
    {
     "cell_type": "markdown",
     "metadata": {},
     "source": [
      "Here Python catches the error again and throws the `SyntaxError` message since it knows that `sin` expects and argument. But there are situations where the syntax is correct, the code runs and no error is generated, but the logic is broken. Which brings us to the Second Theorem of Debugging:\n",
      "\n",
      "> The only thing worse than getting an error message is not getting an error message.\n",
      "\n",
      "Beginning programmers hate error messages and do everything they can to make them go away. Experienced programmers know that error messages are your friend. They can be hard to understand, and even misleading, but it is worth making some effort to understand them.\n",
      "\n",
      "Here\u2019s another common rookie error. If you were translating the following mathematical expression into Python:\n",
      "$$\\frac{1}{2\\sqrt{\\pi}}$$\n",
      "\n",
      "like `1 / 2 * sqrt(pi)`"
     ]
    },
    {
     "cell_type": "markdown",
     "metadata": {},
     "source": [
      "But that would be wrong. So very wrong."
     ]
    },
    {
     "cell_type": "heading",
     "level": 2,
     "metadata": {},
     "source": [
      "1.8 Floating-point arithmetic"
     ]
    },
    {
     "cell_type": "markdown",
     "metadata": {},
     "source": [
      "In mathematics, there are several kinds of numbers: integer, real, rational, irrational, imaginary, complex, etc. In Python you will be using integers and floating-point numbers. The later are particularly important for numerical applications, and it's important to learn how Python (and computers in general) deal with real numbers."
     ]
    },
    {
     "cell_type": "code",
     "collapsed": false,
     "input": [
      "1/3"
     ],
     "language": "python",
     "metadata": {},
     "outputs": [
      {
       "output_type": "pyout",
       "prompt_number": 29,
       "text": [
        "0.3333333333333333"
       ]
      }
     ],
     "prompt_number": 29
    },
    {
     "cell_type": "markdown",
     "metadata": {},
     "source": [
      "which is only approximately correct. Internally, Python uses the [IEEE-754](https://en.wikipedia.org/wiki/IEEE_floating_point) \u201cdouble precision\u201d  floating-point format, which provides about 16 significant digits of precision (in base 10). Leading and trailing zeros don\u2019t count as \u201csignificant\u201d digits, so Python can represent large and small numbers with the same precision.\n",
      "\n",
      "In the expresion above, both '1' and '3' are integers, but the division operations makes the result a float-point number. For simple arithmetic involving interger numbers and '*', '+', and '-', the result will remain integer."
     ]
    },
    {
     "cell_type": "code",
     "collapsed": false,
     "input": [
      "1 + 2 * 3"
     ],
     "language": "python",
     "metadata": {},
     "outputs": [
      {
       "output_type": "pyout",
       "prompt_number": 30,
       "text": [
        "7"
       ]
      }
     ],
     "prompt_number": 30
    },
    {
     "cell_type": "markdown",
     "metadata": {},
     "source": [
      "But if one or more operands is a float-point number, the result will also be fload-point number."
     ]
    },
    {
     "cell_type": "code",
     "collapsed": false,
     "input": [
      "1.0 + 2 * 3"
     ],
     "language": "python",
     "metadata": {},
     "outputs": [
      {
       "output_type": "pyout",
       "prompt_number": 31,
       "text": [
        "7.0"
       ]
      }
     ],
     "prompt_number": 31
    },
    {
     "cell_type": "markdown",
     "metadata": {},
     "source": [
      "To work with very large and very small values, Python support scientific notation."
     ]
    },
    {
     "cell_type": "code",
     "collapsed": false,
     "input": [
      "speed_of_light = 3.0e8\n",
      "speed_of_light"
     ],
     "language": "python",
     "metadata": {},
     "outputs": [
      {
       "output_type": "pyout",
       "prompt_number": 32,
       "text": [
        "300000000.0"
       ]
      }
     ],
     "prompt_number": 32
    },
    {
     "cell_type": "markdown",
     "metadata": {},
     "source": [
      "The `e` in this notation is *not* the transcendental number known as $e$; it is just an abbreviation for \u201cexponent\u201d. Any given number can be written as $a\\times10^b$. The approximate speed of light in vacuum is $c = 3.0 \\times 10^8 [m/s]$.\n",
      "\n",
      "Although Python can handle large numbers, there is a limit. Information about the largest and smallest float-point numbers that Python can handle is contained in `sys.float_info`:"
     ]
    },
    {
     "cell_type": "code",
     "collapsed": false,
     "input": [
      "import sys\n",
      "print sys.float_info.min\n",
      "print sys.float_info.max"
     ],
     "language": "python",
     "metadata": {},
     "outputs": [
      {
       "output_type": "stream",
       "stream": "stdout",
       "text": [
        "2.22507385851e-308\n",
        "1.79769313486e+308\n"
       ]
      }
     ],
     "prompt_number": 33
    },
    {
     "cell_type": "markdown",
     "metadata": {},
     "source": [
      "If the result of a computation is too big, Python \u201crounds up\u201d to infinity."
     ]
    },
    {
     "cell_type": "code",
     "collapsed": false,
     "input": [
      "sys.float_info.max * 1.01"
     ],
     "language": "python",
     "metadata": {},
     "outputs": [
      {
       "output_type": "pyout",
       "prompt_number": 34,
       "text": [
        "inf"
       ]
      }
     ],
     "prompt_number": 34
    },
    {
     "cell_type": "markdown",
     "metadata": {},
     "source": [
      "Unlike tools like MATLAB or IDL, Python has arbitrary precision integers without maximum limit."
     ]
    },
    {
     "cell_type": "code",
     "collapsed": false,
     "input": [
      "x = math.factorial(171)"
     ],
     "language": "python",
     "metadata": {},
     "outputs": [],
     "prompt_number": 35
    },
    {
     "cell_type": "markdown",
     "metadata": {},
     "source": [
      "`x` holds the result of `171!`, but \"printing\" 310 digits on the screen is not very useful. \n",
      "\n",
      "Trying to convert this or a bigger number to a float will generate an error.\n",
      "<pre>\n",
      "    In [36]: float(math.factorial(171))\n",
      "\n",
      "    ---------------------------------------------------------------------------\n",
      "    OverflowError                             Traceback (most recent call last)\n",
      "    [ipython-input-36-f96ed1926b19] in [module]()\n",
      "    ---- 1 float(math.factorial(171))\n",
      "\n",
      "    OverflowError: long int too large to convert to float\n",
      "</pre>\n",
      "\n",
      "Division by zero is also not allowed.\n",
      "<pre>\n",
      "    In [40]: x = 0.0\n",
      "    In [41]: 1/x\n",
      "    ---------------------------------------------------------------------------\n",
      "    ZeroDivisionError                         Traceback (most recent call last)\n",
      "    [ipython-input-40-4ebdc011d5bd] in [module]()\n",
      "          1 x = 0.0\n",
      "    ----  2 1/x\n",
      "\n",
      "    ZeroDivisionError: float division by zero\n",
      "</pre>\n",
      "\n",
      "(*note:* these two examples are not shown in a code cell since `OverflowError` and `ZeroDivisionError` stops the \"offending\" cell when the notebook is executed with \"Run All\" )"
     ]
    },
    {
     "cell_type": "markdown",
     "metadata": {},
     "source": [
      "Python also knows how to work with complex numbers. Just use a number followed by 'j' to indicate the imaginary part. "
     ]
    },
    {
     "cell_type": "code",
     "collapsed": false,
     "input": [
      "1j * 1j"
     ],
     "language": "python",
     "metadata": {},
     "outputs": [
      {
       "output_type": "pyout",
       "prompt_number": 36,
       "text": [
        "(-1+0j)"
       ]
      }
     ],
     "prompt_number": 36
    },
    {
     "cell_type": "markdown",
     "metadata": {},
     "source": [
      "$i^2 = -1$ indeed.\n",
      "\n",
      "The \"complex\" equivalents of math functions are defined in the `cmath` module.\n",
      "\n",
      "<pre>\n",
      "In [37]: math.sqrt(-1)\n",
      "\n",
      "---------------------------------------------------------------------------\n",
      "ValueError                                Traceback (most recent call last)\n",
      "[ipython-input-38-5234f21f3b4d] in [module]()\n",
      "---- 1 math.sqrt(-1)\n",
      "\n",
      "ValueError: math domain error\n",
      "</pre>"
     ]
    },
    {
     "cell_type": "code",
     "collapsed": false,
     "input": [
      "import cmath\n",
      "cmath.sqrt(-1)"
     ],
     "language": "python",
     "metadata": {},
     "outputs": [
      {
       "output_type": "pyout",
       "prompt_number": 37,
       "text": [
        "1j"
       ]
      }
     ],
     "prompt_number": 37
    },
    {
     "cell_type": "heading",
     "level": 2,
     "metadata": {},
     "source": [
      "1.9 Comments"
     ]
    },
    {
     "cell_type": "markdown",
     "metadata": {},
     "source": [
      "Along with the commands that make up a program, it is useful to include comments that provide additional information about the program. The hash symbol # separates the comments from the code."
     ]
    },
    {
     "cell_type": "code",
     "collapsed": false,
     "input": [
      "speed_of_light = 3.0e8 # meters per second"
     ],
     "language": "python",
     "metadata": {},
     "outputs": [],
     "prompt_number": 38
    },
    {
     "cell_type": "markdown",
     "metadata": {},
     "source": [
      "The comment runs from the hash symbol to the end of the line. In this case it specifies the units of the value. In an ideal world, Python would keep track of units and propagate them through the computation, but for now that burden falls on the programmer.\n",
      "\n",
      "Comments have no effect on the execution of the program. They are there for human readers. Good comments make programs more readable, but bad comments are useless or (even worse) misleading.\n",
      "\n",
      "Avoid comments that are redundant with the code:"
     ]
    },
    {
     "cell_type": "code",
     "collapsed": false,
     "input": [
      "x = 5 # assign the value 5 to x"
     ],
     "language": "python",
     "metadata": {},
     "outputs": [],
     "prompt_number": 39
    },
    {
     "cell_type": "markdown",
     "metadata": {},
     "source": [
      "Good comments provide additional information that is not in the code, like units in the example above, or the meaning of a variable:"
     ]
    },
    {
     "cell_type": "code",
     "collapsed": false,
     "input": [
      "p = 0     # position from the origin in meters\n",
      "v = 100   # velocity in meters / second\n",
      "a = -9.8  # acceleration of gravity in meters / second^2"
     ],
     "language": "python",
     "metadata": {},
     "outputs": [],
     "prompt_number": 40
    },
    {
     "cell_type": "markdown",
     "metadata": {},
     "source": [
      "If you use longer variable names, you might not need explanatory comments, but there is a tradeoff: longer code can become harder to read. Also, if you are translating from math that uses short variable names, it can be useful to make your program consistent with your math."
     ]
    },
    {
     "cell_type": "heading",
     "level": 2,
     "metadata": {},
     "source": [
      "1.10 Glossary"
     ]
    },
    {
     "cell_type": "markdown",
     "metadata": {},
     "source": [
      "**interpreter:** The program that reads and executes Python code.\n",
      "\n",
      "**command:** A line of Python code executed by the interpreter.\n",
      "\n",
      "**prompt:** The symbol(s) the interpreter prints to indicate that it is waiting for you to type a command.\n",
      "\n",
      "**operator:** One of the symbols, like * and +, that represent mathematical operations.\n",
      "\n",
      "**operand:** A number or variable that appears in an expression along with operators.\n",
      "\n",
      "**expression:** A sequence of operands and operators that specifies a mathematical computation and yields a value.\n",
      "\n",
      "**value:** The numerical result of a computation.\n",
      "\n",
      "**evaluate:** To compute the value of an expression.\n",
      "\n",
      "**order of operations:** The rules that specify which operations in an expression are performed first.\n",
      "\n",
      "**function:** A named computation; for example `math.log10` is the name of a function that computes logarithms in base 10.\n",
      "\n",
      "**call:** To cause a function to execute and compute a result.\n",
      "\n",
      "**function call:** A kind of command that executes a function.\n",
      "\n",
      "**argument:** An expression that appears in a function call to specify the value the function operates on.\n",
      "\n",
      "**nested function call:** An expression that uses the result from one function call as an argument for another.\n",
      "\n",
      "**variable:** A named value.\n",
      "\n",
      "**assignment statement:** A command that creates a new variable (if necessary) and gives it a value.\n",
      "\n",
      "**string:** A value that consists of a sequence of characters (as opposed to a number).\n",
      "\n",
      "**floating-point:** A kind of number Python works with. All floating-point numbers can be represented with about 16 significant decimal digits (unlike mathematical integers and reals).\n",
      "\n",
      "**scientific notation:** A format for typing and displaying large and small numbers; e.g. `3.0e8`, which represents $3.0 \\times 10^8$ or 300,000,000.\n",
      "\n",
      "**comment:** Part of a program that provides additional information about the program, but does not affect its execution."
     ]
    },
    {
     "cell_type": "heading",
     "level": 2,
     "metadata": {},
     "source": [
      "1.11 Exercises"
     ]
    },
    {
     "cell_type": "markdown",
     "metadata": {},
     "source": [
      "**Exercise 1.1** *Write a Python expression that evaluates the following math expression.  You can assume that the variables `mu`, `sigma` and `x` already exist.*\n",
      "\n",
      "\n",
      "$$\n",
      "\\frac{e^{- \\left( \\frac{x-\\mu}{\\sigma \\sqrt{}2} \\right) ^2}}\n",
      "{\\sigma \\sqrt{2 \\pi}}\n",
      "$$\n",
      "\n",
      "*Note: you can't use Greek letters in MATLAB; when translating math expressions with Greek letters, it is common to write out\n",
      "the name of the letter (assuming you know it).*"
     ]
    }
   ],
   "metadata": {}
  }
 ]
}