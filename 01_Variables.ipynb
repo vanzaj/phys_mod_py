{
 "metadata": {
  "name": "01_Variables"
 },
 "nbformat": 3,
 "nbformat_minor": 0,
 "worksheets": [
  {
   "cells": [
    {
     "cell_type": "heading",
     "level": 1,
     "metadata": {},
     "source": [
      "Variables and values"
     ]
    },
    {
     "cell_type": "heading",
     "level": 2,
     "metadata": {},
     "source": [
      "1.1 Glorified calculator"
     ]
    },
    {
     "cell_type": "markdown",
     "metadata": {},
     "source": [
      "Unlike MATLAB, Python is a general purpose programming language. It can be used for anything: writing scripts, developing desktop (GUI) applications, games or full-stack web applications. It is also increasingly used for scientific computing. \n",
      "\n",
      "There are several ways to start Python: typing `python` in the terminal (`cmd.exe` on Windows) or clicking on IDLE icon. This will start the default Python interactive shell.\n",
      "\n",
      "    $ python\n",
      "    Python 2.7.4 (default, May  6 2013, 22:10:23)\n",
      "    [GCC 4.2.1 Compatible Apple LLVM 4.2 (clang-425.0.27)] on darwin\n",
      "    Type \"help\", \"copyright\", \"credits\" or \"license\" for more information.\n",
      "    >>> \n",
      "\n",
      "`>>>` is the standard Python **prompt**. that is, this symbol prompts you to enter a command. When using IPython, the prompt will look like `In [1]:`, where the number inside the square brackets is the input history number.\n",
      "\n",
      "The simplest kind of command that can be entered at the prompt is a mathematical expression, which is made up of operands (like numbers, for example) and operators (like the plus sign, +)."
     ]
    },
    {
     "cell_type": "code",
     "collapsed": false,
     "input": [
      "2 + 1"
     ],
     "language": "python",
     "metadata": {},
     "outputs": [
      {
       "output_type": "pyout",
       "prompt_number": 2,
       "text": [
        "3"
       ]
      }
     ],
     "prompt_number": 2
    },
    {
     "cell_type": "markdown",
     "metadata": {},
     "source": [
      "Just to be clear: in the example above, I typed `2 + 1` and then hit Enter (Shift+Enter in IPython notebook), and Python printed `3`. And when I say \u201cprinted,\u201d I really mean \u201cdisplayed on the screen,\u201d which might be confusing, but it\u2019s the way people talk. You could also explicitly instruct Python to `print` a result (but `print` is a default operation while in the interactive mode in any case)."
     ]
    },
    {
     "cell_type": "code",
     "collapsed": false,
     "input": [
      "print(2 + 1)"
     ],
     "language": "python",
     "metadata": {},
     "outputs": [
      {
       "output_type": "stream",
       "stream": "stdout",
       "text": [
        "3\n"
       ]
      }
     ],
     "prompt_number": 4
    },
    {
     "cell_type": "markdown",
     "metadata": {},
     "source": [
      "An expression can contain any number of operators and operands. You don\u2019t have to put spaces between them; some people do and some people don\u2019t."
     ]
    },
    {
     "cell_type": "code",
     "collapsed": false,
     "input": [
      "1+2+3+4+5+6+7+8+9"
     ],
     "language": "python",
     "metadata": {},
     "outputs": [
      {
       "output_type": "pyout",
       "prompt_number": 5,
       "text": [
        "45"
       ]
      }
     ],
     "prompt_number": 5
    },
    {
     "cell_type": "markdown",
     "metadata": {},
     "source": [
      "The other arithmetic operators are pretty much what you would expect. Subtraction is denoted by a minus sign, `-`; multiplication by an asterisk, `*`; division by a forward slash `/`."
     ]
    },
    {
     "cell_type": "code",
     "collapsed": false,
     "input": [
      "2*3 - 4/5"
     ],
     "language": "python",
     "metadata": {},
     "outputs": [
      {
       "output_type": "pyout",
       "prompt_number": 11,
       "text": [
        "6"
       ]
      }
     ],
     "prompt_number": 11
    },
    {
     "cell_type": "markdown",
     "metadata": {},
     "source": [
      "*Note:* In Python versions below 3, when '/' is used together with whole numbers, the result is also a whole number. In Python 3.x, '/' has been changed to always perform a **real division**. The origianl behavior of '/' in Python 2.x can be changed using `from __future__ import division`."
     ]
    },
    {
     "cell_type": "code",
     "collapsed": false,
     "input": [
      "from __future__ import division\n",
      "2*3 - 4/5"
     ],
     "language": "python",
     "metadata": {},
     "outputs": [
      {
       "output_type": "pyout",
       "prompt_number": 16,
       "text": [
        "5.2"
       ]
      }
     ],
     "prompt_number": 16
    },
    {
     "cell_type": "markdown",
     "metadata": {},
     "source": [
      "The order of operations is what you would expect from basic algebra: multi- plication and division happen before addition and subtraction. If you want to override the order of operations, you can use parentheses."
     ]
    },
    {
     "cell_type": "code",
     "collapsed": false,
     "input": [
      "2 * (3-4) / 5"
     ],
     "language": "python",
     "metadata": {},
     "outputs": [
      {
       "output_type": "pyout",
       "prompt_number": 15,
       "text": [
        "-0.4"
       ]
      }
     ],
     "prompt_number": 15
    },
    {
     "cell_type": "markdown",
     "metadata": {},
     "source": [
      "When I added the parentheses I also changed the spacing to make the grouping of operands clearer to a human reader. This is the first of many style guidelines I will recommend for making your programs easier to read. Style doesn\u2019t change what the program does; the Python interpreter doesn\u2019t check for style. But human readers do, and the most important human who will read your code is you.\n",
      "\n",
      "And that brings us to the First Theorem of debugging: \n",
      "\n",
      "> Readable code is debuggable code.\n",
      "\n",
      "It is worth spending time to make your code pretty; it will save you time de- bugging!\n",
      "\n",
      "The other common operator is exponentiation, which uses the `**` sequence (double asterisk). So 2 raised to the 16th power is"
     ]
    },
    {
     "cell_type": "code",
     "collapsed": false,
     "input": [
      "2**16"
     ],
     "language": "python",
     "metadata": {},
     "outputs": [
      {
       "output_type": "pyout",
       "prompt_number": 17,
       "text": [
        "65536"
       ]
      }
     ],
     "prompt_number": 17
    },
    {
     "cell_type": "markdown",
     "metadata": {},
     "source": [
      "As in basic algebra, exponentiation happens before multiplication and division, but again, you can use parentheses to override the order of operations."
     ]
    },
    {
     "cell_type": "heading",
     "level": 2,
     "metadata": {},
     "source": [
      "1.2 Math functions"
     ]
    },
    {
     "cell_type": "markdown",
     "metadata": {},
     "source": [
      "Python knows how to compute pretty much every math function you\u2019ve heard of. But you first need to **import** a math module.  Here\u2019s how you use trigonometric functions:"
     ]
    },
    {
     "cell_type": "code",
     "collapsed": false,
     "input": [
      "import math\n",
      "math.sin(1)"
     ],
     "language": "python",
     "metadata": {},
     "outputs": [
      {
       "output_type": "pyout",
       "prompt_number": 19,
       "text": [
        "0.8414709848078965"
       ]
      }
     ],
     "prompt_number": 19
    },
    {
     "cell_type": "markdown",
     "metadata": {},
     "source": [
      "Another way to \"import\" the content of a  modules is"
     ]
    },
    {
     "cell_type": "code",
     "collapsed": false,
     "input": [
      "from math import *\n",
      "sin(1)"
     ],
     "language": "python",
     "metadata": {},
     "outputs": [
      {
       "output_type": "pyout",
       "prompt_number": 20,
       "text": [
        "0.8414709848078965"
       ]
      }
     ],
     "prompt_number": 20
    },
    {
     "cell_type": "markdown",
     "metadata": {},
     "source": [
      "*Note:* The last form is fine for an interactive, but the 1st one is preferred in scripts.\n",
      "\n",
      "`sin(1)` is an example of a **function call**. The name of the function is `sin`, which is the usual abbreviation for the trigonometric sine. The value in parentheses is called the **argument**. All the trig functions in Python work in radians.\n",
      "\n",
      "Some functions take more than one argument, in which case they are separated by commas. For example, `atan2` computes the inverse tangent, which is the angle in radians between the positive x-axis and the point with the given $y$ and $x$ coordinates."
     ]
    },
    {
     "cell_type": "code",
     "collapsed": false,
     "input": [
      "atan2(1, 1)"
     ],
     "language": "python",
     "metadata": {},
     "outputs": [
      {
       "output_type": "pyout",
       "prompt_number": 21,
       "text": [
        "0.7853981633974483"
       ]
      }
     ],
     "prompt_number": 21
    },
    {
     "cell_type": "markdown",
     "metadata": {},
     "source": [
      "If that bit of trigonometry isn\u2019t familiar to you, don\u2019t worry about it. It\u2019s just an example of a function with multiple arguments."
     ]
    },
    {
     "cell_type": "markdown",
     "metadata": {},
     "source": [
      "Python also provides the exponential function, which computes $e$ raised to the given power. So `exp(1)` is just $e$."
     ]
    },
    {
     "cell_type": "code",
     "collapsed": false,
     "input": [
      "exp(1)"
     ],
     "language": "python",
     "metadata": {},
     "outputs": [
      {
       "output_type": "pyout",
       "prompt_number": 22,
       "text": [
        "2.718281828459045"
       ]
      }
     ],
     "prompt_number": 22
    },
    {
     "cell_type": "markdown",
     "metadata": {},
     "source": [
      "The inverse of `exp` is `log`, which computes the logarithm base $e$:"
     ]
    },
    {
     "cell_type": "code",
     "collapsed": false,
     "input": [
      "log(exp(3))"
     ],
     "language": "python",
     "metadata": {},
     "outputs": [
      {
       "output_type": "pyout",
       "prompt_number": 23,
       "text": [
        "3.0"
       ]
      }
     ],
     "prompt_number": 23
    },
    {
     "cell_type": "markdown",
     "metadata": {},
     "source": [
      "This example also demonstrates that function calls can be **nested**; that is, you can use the result from one function as an argument for another.\n",
      "\n",
      "More generally, you can use a function call as an operand in an expression."
     ]
    },
    {
     "cell_type": "code",
     "collapsed": false,
     "input": [
      "sqrt( sin(0.5)**2 + cos(0.5)**2 )"
     ],
     "language": "python",
     "metadata": {},
     "outputs": [
      {
       "output_type": "pyout",
       "prompt_number": 25,
       "text": [
        "1.0"
       ]
      }
     ],
     "prompt_number": 25
    },
    {
     "cell_type": "markdown",
     "metadata": {},
     "source": [
      "Just to be clear: that was to compute $\\sqrt{\\sin{0.5}^2 + \\cos{0.5}^2}$\n",
      "\n",
      "There are lots of other math functions, but this is not meant to be a reference manual. To learn about other functions, you should read the documentation."
     ]
    },
    {
     "cell_type": "heading",
     "level": 2,
     "metadata": {},
     "source": [
      "1.3 Documentation"
     ]
    },
    {
     "cell_type": "markdown",
     "metadata": {},
     "source": [
      "Python has a built-in help system that is accessible with `help()`.\n",
      "<pre><code>\n",
      "  >>> help()\n",
      "  \n",
      "  Welcome to Python 2.7!  This is the online help utility.\n",
      "\n",
      "  If this is your first time using Python, you should definitely check out\n",
      "  the tutorial on the Internet at http://docs.python.org/2.7/tutorial/.\n",
      "\n",
      "  Enter the name of any module, keyword, or topic to get help on writing\n",
      "  Python programs and using Python modules.  To quit this help utility and\n",
      "  return to the interpreter, just type \"quit\".\n",
      "  \n",
      "  To get a list of available modules, keywords, or topics, type \"modules\",\n",
      "  \"keywords\", or \"topics\".  Each module also comes with a one-line summary\n",
      "  of what it does; to list the modules whose summaries contain a given word\n",
      "  such as \"spam\", type \"modules spam\".\n",
      "\n",
      "  help>\n",
      "</code></pre>\n",
      "\n",
      "\n",
      "type `quit` to get back to prompt. \n",
      "\n",
      "The problem with this help is that it's more about core Python language features and not on specific functions. For that \n",
      "it's easier to use [online documentation](http://docs.python.org/). If you know the name of the function, it's possible to do:"
     ]
    },
    {
     "cell_type": "code",
     "collapsed": false,
     "input": [
      "help(sin)"
     ],
     "language": "python",
     "metadata": {},
     "outputs": [
      {
       "output_type": "stream",
       "stream": "stdout",
       "text": [
        "Help on built-in function sin in module math:\n",
        "\n",
        "sin(...)\n",
        "    sin(x)\n",
        "    \n",
        "    Return the sine of x (measured in radians).\n",
        "\n"
       ]
      }
     ],
     "prompt_number": 38
    },
    {
     "cell_type": "markdown",
     "metadata": {},
     "source": [
      "IPython provides a shortcut"
     ]
    },
    {
     "cell_type": "code",
     "collapsed": false,
     "input": [
      "sin?"
     ],
     "language": "python",
     "metadata": {},
     "outputs": [],
     "prompt_number": 34
    },
    {
     "cell_type": "markdown",
     "metadata": {},
     "source": [
      "Careful, Python is **case sensitive**"
     ]
    },
    {
     "cell_type": "code",
     "collapsed": false,
     "input": [
      "SIN?"
     ],
     "language": "python",
     "metadata": {},
     "outputs": [
      {
       "output_type": "stream",
       "stream": "stdout",
       "text": [
        "Object `SIN` not found.\n"
       ]
      }
     ],
     "prompt_number": 35
    },
    {
     "cell_type": "heading",
     "level": 2,
     "metadata": {},
     "source": [
      "1.4 Variables"
     ]
    }
   ],
   "metadata": {}
  }
 ]
}