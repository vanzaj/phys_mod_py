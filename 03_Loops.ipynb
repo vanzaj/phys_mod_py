{
 "metadata": {
  "name": "03_Loops"
 },
 "nbformat": 3,
 "nbformat_minor": 0,
 "worksheets": [
  {
   "cells": [
    {
     "cell_type": "heading",
     "level": 1,
     "metadata": {},
     "source": [
      "3. Loops"
     ]
    },
    {
     "cell_type": "heading",
     "level": 2,
     "metadata": {},
     "source": [
      "3.1 Updating variables"
     ]
    },
    {
     "cell_type": "markdown",
     "metadata": {},
     "source": [
      "In Exercise 2.3, you might have been tempted to write something like:\n",
      "\n",
      "    a = a - 0.05*a + 0.03*b\n",
      "    b = b + 0.05*a - 0.03*b\n",
      "\n",
      "But that would be wrong, so very wrong. Why? The problem is that the first line changes the value of `a`, so when the second line runs, it gets the old value of `b` and the new value of `a`. As a result, the change in `a` is not always the same as the change in `b`, which violates the principle of Conversation of Cars!\n",
      "\n",
      "One solution is to use temporary variables `anew` and `bnew`:\n",
      "\n",
      "    anew = a - 0.05*a + 0.03*b\n",
      "    bnew = b + 0.05*a - 0.03*b\n",
      "    a = anew\n",
      "    b = bnew\n",
      "\n",
      "This has the effect of updating the variables \u201csimultaneously;\u201d that is, it reads both old values before writing either new value.\n",
      "\n",
      "The following is an alternative solution that has the added advantage of simplifying the computation:\n",
      "\n",
      "    atob = 0.05*a - 0.03*b\n",
      "    a = a - atob\n",
      "    b = b + atob\n",
      "\n",
      "It is easy to look at this code and confirm that it obeys Conversation of Cars. Even if the value of `atob` is wrong, at least the total number of cars is right. And that brings us to the Seventh Theorem of Debugging:\n",
      "\n",
      "> The best way to avoid a bug is to make it impossible.\n",
      "\n",
      "In this case, removing redundancy also eliminates the opportunity for a bug."
     ]
    },
    {
     "cell_type": "heading",
     "level": 2,
     "metadata": {},
     "source": [
      "3.2 Kinds of error"
     ]
    },
    {
     "cell_type": "markdown",
     "metadata": {},
     "source": [
      "There are four kinds of error:\n",
      "\n",
      "**Syntax error:** You have written a Python command that cannot execute because it violates one of the rules of syntax. For example, you can\u2019t have two operands in a row without an operator, so `pi r**2` contains a syntax error. When Python finds a syntax error, it prints an error message and stops running your program.\n",
      "\n",
      "**Runtime error:** Your program starts running, but something goes wrong along the way. For example, if you try to access a variable that doesn\u2019t exist, that\u2019s a runtime error. When Python detects the problem, it prints an error message and stops.\n",
      "\n",
      "**Logical error:** Your program runs without generating any error messages, but it doesn\u2019t do the right thing. The problem in the previous section, where we changed the value of `a` before reading the old value, is a logical error.\n",
      "\n",
      "**Numerical error:** Most computations in Python are only approximately right. Most of the time the errors are small enough that we don\u2019t care, but in some cases the roundoff errors are a problem.\n",
      "\n",
      "Syntax errors are usually the easiest. Sometimes the error messages are confusing, but Python can usually tell you where the error is, at least roughly.\n",
      "\n",
      "Runtime errors are harder because, as I mentioned before, Python can tell you where it detected the problem, but not what caused it.\n",
      "\n",
      "Logical errors are hard because Python can\u2019t help at all. Only you know what the program is supposed to do, so only you can check it. From Python's point of view, there's nothing wrong with the program; the bug is in your head!\n",
      "\n",
      "Numerical errors can be tricky because it's not clear whether the problem is your fault. For most simple computations, Python produces the floating point value that is closest to the exact solution, which means that the first 15 significant digits should be correct. But some computations are ill-conditioned, which means that even if your program is correct, the roundoff errors accumulate and the number of correct digits can be smaller. Sometimes Python can warn you that this is happening, but not always! Precision (the number of digits in the answer) does not imply accuracy (the number of digits that are right)."
     ]
    },
    {
     "cell_type": "code",
     "collapsed": false,
     "input": [],
     "language": "python",
     "metadata": {},
     "outputs": []
    }
   ],
   "metadata": {}
  }
 ]
}