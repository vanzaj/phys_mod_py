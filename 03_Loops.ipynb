{
 "metadata": {
  "name": "03_Loops"
 },
 "nbformat": 3,
 "nbformat_minor": 0,
 "worksheets": [
  {
   "cells": [
    {
     "cell_type": "heading",
     "level": 1,
     "metadata": {},
     "source": [
      "3. Loops"
     ]
    },
    {
     "cell_type": "heading",
     "level": 2,
     "metadata": {},
     "source": [
      "3.1 Updating variables"
     ]
    },
    {
     "cell_type": "markdown",
     "metadata": {},
     "source": [
      "In Exercise 2.3, you might have been tempted to write something like:\n",
      "\n",
      "    a = a - 0.05*a + 0.03*b\n",
      "    b = b + 0.05*a - 0.03*b\n",
      "\n",
      "But that would be wrong, so very wrong. Why? The problem is that the first line changes the value of `a`, so when the second line runs, it gets the old value of `b` and the new value of `a`. As a result, the change in `a` is not always the same as the change in `b`, which violates the principle of Conversation of Cars!\n",
      "\n",
      "One solution is to use temporary variables `anew` and `bnew`:\n",
      "\n",
      "    anew = a - 0.05*a + 0.03*b\n",
      "    bnew = b + 0.05*a - 0.03*b\n",
      "    a = anew\n",
      "    b = bnew\n",
      "\n",
      "This has the effect of updating the variables \u201csimultaneously;\u201d that is, it reads both old values before writing either new value.\n",
      "\n",
      "The following is an alternative solution that has the added advantage of simplifying the computation:\n",
      "\n",
      "    atob = 0.05*a - 0.03*b\n",
      "    a = a - atob\n",
      "    b = b + atob\n",
      "\n",
      "It is easy to look at this code and confirm that it obeys Conversation of Cars. Even if the value of `atob` is wrong, at least the total number of cars is right. And that brings us to the Seventh Theorem of Debugging:\n",
      "\n",
      "> The best way to avoid a bug is to make it impossible.\n",
      "\n",
      "In this case, removing redundancy also eliminates the opportunity for a bug."
     ]
    },
    {
     "cell_type": "heading",
     "level": 2,
     "metadata": {},
     "source": [
      "3.2 Kinds of error"
     ]
    },
    {
     "cell_type": "markdown",
     "metadata": {},
     "source": [
      "There are four kinds of error:\n",
      "\n",
      "**Syntax error:** You have written a Python command that cannot execute because it violates one of the rules of syntax. For example, you can\u2019t have two operands in a row without an operator, so `pi r**2` contains a syntax error. When Python finds a syntax error, it prints an error message and stops running your program.\n",
      "\n",
      "**Runtime error:** Your program starts running, but something goes wrong along the way. For example, if you try to access a variable that doesn\u2019t exist, that\u2019s a runtime error. When Python detects the problem, it prints an error message and stops.\n",
      "\n",
      "**Logical error:** Your program runs without generating any error messages, but it doesn\u2019t do the right thing. The problem in the previous section, where we changed the value of `a` before reading the old value, is a logical error.\n",
      "\n",
      "**Numerical error:** Most computations in Python are only approximately right. Most of the time the errors are small enough that we don\u2019t care, but in some cases the roundoff errors are a problem.\n",
      "\n",
      "Syntax errors are usually the easiest. Sometimes the error messages are confusing, but Python can usually tell you where the error is, at least roughly.\n",
      "\n",
      "Runtime errors are harder because, as I mentioned before, Python can tell you where it detected the problem, but not what caused it.\n",
      "\n",
      "Logical errors are hard because Python can\u2019t help at all. Only you know what the program is supposed to do, so only you can check it. From Python's point of view, there's nothing wrong with the program; the bug is in your head!\n",
      "\n",
      "Numerical errors can be tricky because it's not clear whether the problem is your fault. For most simple computations, Python produces the floating point value that is closest to the exact solution, which means that the first 15 significant digits should be correct. But some computations are ill-conditioned, which means that even if your program is correct, the roundoff errors accumulate and the number of correct digits can be smaller. Sometimes Python can warn you that this is happening, but not always! Precision (the number of digits in the answer) does not imply accuracy (the number of digits that are right)."
     ]
    },
    {
     "cell_type": "heading",
     "level": 2,
     "metadata": {},
     "source": [
      "3.3 Absolute and relative error"
     ]
    },
    {
     "cell_type": "markdown",
     "metadata": {},
     "source": [
      "There are two ways of thinking about numerical errors, called **absolute** and **relative**.\n",
      "\n",
      "An absolute error is just the difference between the correct value and the approximation. We usually write the magnitude of the error, ignoring its sign, because it doesn't matter whether the approximation is too high or too low.\n",
      "\n",
      "For example, we might want to estimate $9!$ using the formula $\\sqrt{18\\pi}(9/e)^9$. The exact answer is $9\\cdot 8\\cdot 7\\cdot  6\\cdot 5\\cdot 4\\cdot 3\\cdot 2\\cdot 1 = 362880 $. The approximation is $359536.87$. The absolute error is $3343.13$.\n",
      "\n",
      "At first glance, that sounds like a lot -- we\u2019re off by three thousand -- but it is worth taking into account the size of the thing we are estimating. For example, $3000 matters a lot if we are talking about my annual salary, but not at all if we are talking about the national debt.\n",
      "\n",
      "A natural way to handle this problem is to use relative error, which is the error expressed as a fraction (or percentage) of the exact value. In this case, we would divide the error by $362880$, yielding $0.00921$, which is just less than 1%. For many purposes, being off by 1% is good enough."
     ]
    },
    {
     "cell_type": "heading",
     "level": 2,
     "metadata": {},
     "source": [
      "3.4 for loops"
     ]
    },
    {
     "cell_type": "markdown",
     "metadata": {},
     "source": [
      "A **loop** is a part of a program that executes repeatedly; a **for loop** is the kind of loop that uses the `for` statement.\n",
      "\n",
      "The simplest use of a for loop is to execute one or more lines a fixed number of times. For example, to calculate $2^n$ for $n$ between 1 and 5, we can do:"
     ]
    },
    {
     "cell_type": "code",
     "collapsed": false,
     "input": [
      "for n in [1,2,3,4,5]:\n",
      "    print 2**n"
     ],
     "language": "python",
     "metadata": {},
     "outputs": [
      {
       "output_type": "stream",
       "stream": "stdout",
       "text": [
        "2\n",
        "4\n",
        "8\n",
        "16\n",
        "32\n"
       ]
      }
     ],
     "prompt_number": 14
    },
    {
     "cell_type": "markdown",
     "metadata": {},
     "source": [
      "In Python, an expression like `[1,2,3,4,5]` means a list of values. The for loop statement means: for each item in the list assign it's value to `n` and exectue `print` statement with that value of `n`.\n",
      "\n",
      "Since working with ranges of numbers is very common, Python has a built-in `range` function to facilitate this:"
     ]
    },
    {
     "cell_type": "code",
     "collapsed": false,
     "input": [
      "range(5)"
     ],
     "language": "python",
     "metadata": {},
     "outputs": [
      {
       "output_type": "pyout",
       "prompt_number": 15,
       "text": [
        "[0, 1, 2, 3, 4]"
       ]
      }
     ],
     "prompt_number": 15
    },
    {
     "cell_type": "code",
     "collapsed": false,
     "input": [
      "range(1,6)"
     ],
     "language": "python",
     "metadata": {},
     "outputs": [
      {
       "output_type": "pyout",
       "prompt_number": 19,
       "text": [
        "[1, 2, 3, 4, 5]"
       ]
      }
     ],
     "prompt_number": 19
    },
    {
     "cell_type": "markdown",
     "metadata": {},
     "source": [
      "(check `range()`'s documentation regarding inclusion of the endpoints)"
     ]
    },
    {
     "cell_type": "markdown",
     "metadata": {},
     "source": [
      "In the for loop above, `n` is called the loop variable. It is a common convention to use short names like `n`, `m`, `i`, `j` and `k` as loop variables (it's best to avoid using small L as it often looks like numerical one in monospace fonts: `l` vs `1`).\n",
      "\n",
      "The statements inside the loop are called the **body**. They are indented to show that they are inside the loop. Unlike most other languages, indentation is significant in Python. The loop ends at the last non-empty line with indentation."
     ]
    },
    {
     "cell_type": "code",
     "collapsed": false,
     "input": [
      "for i in range(1,6):\n",
      "    print i,\n",
      "    print 2**i\n",
      "    \n",
      "print 100"
     ],
     "language": "python",
     "metadata": {},
     "outputs": [
      {
       "output_type": "stream",
       "stream": "stdout",
       "text": [
        "1 2\n",
        "2 4\n",
        "3 8\n",
        "4 16\n",
        "5 32\n",
        "100\n"
       ]
      }
     ],
     "prompt_number": 28
    },
    {
     "cell_type": "markdown",
     "metadata": {},
     "source": [
      "-----\n",
      "**Exercise 3.1** Create a script named `car_loop` that uses a for loop to run `car_update` 52 times. Remember that before you run `car_update`, you have to assign values to `a` and `b`. For this exercise, start with the values `a = 150` and `b = 150`.\n",
      "\n",
      "If everything goes smoothly, your script will display a long stream of numbers on the screen. But it is probably too long to fit, and even if it fit, it would be hard to interpret. A graph would be much better!\n",
      "\n",
      "-----"
     ]
    },
    {
     "cell_type": "heading",
     "level": 2,
     "metadata": {},
     "source": [
      "3.5 plotting"
     ]
    },
    {
     "cell_type": "markdown",
     "metadata": {},
     "source": [
      "In Python, plotting is done using [matplotlib](http://matplotlib.org/) library. `plot` is a versatile function for plotting points and lines on a two-dimensional graph. Unfortunately, it is so versatile that it can be hard to use (and hard to read the documentation!). We will start simple and work our way up. But before, let's use `pylab` to make matplotlib available in the current namespace:"
     ]
    },
    {
     "cell_type": "code",
     "collapsed": false,
     "input": [
      "# activate embedded graphics\n",
      "%pylab inline"
     ],
     "language": "python",
     "metadata": {},
     "outputs": [
      {
       "output_type": "stream",
       "stream": "stdout",
       "text": [
        "\n",
        "Welcome to pylab, a matplotlib-based Python environment [backend: module://IPython.zmq.pylab.backend_inline].\n",
        "For more information, type 'help(pylab)'.\n"
       ]
      }
     ],
     "prompt_number": 1
    },
    {
     "cell_type": "markdown",
     "metadata": {},
     "source": [
      "To plot a single point, type"
     ]
    },
    {
     "cell_type": "code",
     "collapsed": false,
     "input": [
      "plot(1, 2, 'o')"
     ],
     "language": "python",
     "metadata": {},
     "outputs": [
      {
       "output_type": "pyout",
       "prompt_number": 3,
       "text": [
        "[<matplotlib.lines.Line2D at 0x106229f90>]"
       ]
      },
      {
       "output_type": "display_data",
       "png": "[encoded data removed]"
      }
     ],
     "prompt_number": 3
    },
    {
     "cell_type": "markdown",
     "metadata": {},
     "source": [
      "The letter in single quotes is a string that specifies how the point should be\n",
      "plotted. You can also specify the color:"
     ]
    },
    {
     "cell_type": "code",
     "collapsed": false,
     "input": [
      "plot(1, 2, 'ro')"
     ],
     "language": "python",
     "metadata": {},
     "outputs": [
      {
       "output_type": "pyout",
       "prompt_number": 14,
       "text": [
        "[<matplotlib.lines.Line2D at 0x106f389d0>]"
       ]
      },
      {
       "output_type": "display_data",
       "png": "[encoded data removed]"
      }
     ],
     "prompt_number": 14
    },
    {
     "cell_type": "markdown",
     "metadata": {},
     "source": [
      "'r' stands for red; the other colors include (g)reen, (b)lue, (c)yan, (m)agenta, (y)ellow and blac(k). Other shapes include +, *, x, s (for square), d (for diamond), and ^ (for a triangle).\n",
      "\n",
      "When you use `plot` this way, it can only plot one point at a time. If you run plot again, it clears the figure before making the new plot. The `hold` command lets you override that behavior. `hold(True)` tells `matplotlib` not to clear the figure when it makes a new plot; `hold(False)` returns to the default behavior."
     ]
    },
    {
     "cell_type": "code",
     "collapsed": false,
     "input": [
      "hold(True)\n",
      "plot(1, 1, 'o')\n",
      "plot(2, 2, 'o')"
     ],
     "language": "python",
     "metadata": {},
     "outputs": [
      {
       "output_type": "pyout",
       "prompt_number": 19,
       "text": [
        "[<matplotlib.lines.Line2D at 0x107c88910>]"
       ]
      },
      {
       "output_type": "display_data",
       "png": "[encoded data removed]"
      }
     ],
     "prompt_number": 19
    },
    {
     "cell_type": "markdown",
     "metadata": {},
     "source": [
      "You should see a figure with two points. Matplotlib scales the plot automatically so that the axes run from the lowest value in the plot to the highest. Sometimes the points at the corner are difficult to see. You can use `axis` to change the range of the plot.\n"
     ]
    },
    {
     "cell_type": "code",
     "collapsed": false,
     "input": [
      "hold(True)\n",
      "plot(1, 1, 'o')\n",
      "plot(2, 2, 'o')\n",
      "axis([0.9, 2.1, 0.9, 2.1])  # xmin, xmax, ymin, ymax"
     ],
     "language": "python",
     "metadata": {},
     "outputs": [
      {
       "output_type": "pyout",
       "prompt_number": 22,
       "text": [
        "[0.9, 2.1, 0.9, 2.1]"
       ]
      },
      {
       "output_type": "display_data",
       "png": "[encoded data removed]"
      }
     ],
     "prompt_number": 22
    },
    {
     "cell_type": "markdown",
     "metadata": {},
     "source": [
      "-----\n",
      "\n",
      "**Exercise 3.2** Modify `car_loop` so that each time through the loop it plots the value of `a` versus the value of `i`.\n",
      "\n",
      "Once you get that working, modify it so it plots the values of `a` with red circles and the values of `b` with blue diamonds.\n",
      "\n",
      "One more thing: if you use `hold(True)` to prevent matplotlib from clearing the figure, you might want to clear the figure yourself, from time to time, with the command `clf` (Note: this is not really useful with \"inline graphs\").\n",
      "\n",
      "-----"
     ]
    },
    {
     "cell_type": "heading",
     "level": 2,
     "metadata": {},
     "source": [
      "3.6 Sequences"
     ]
    },
    {
     "cell_type": "markdown",
     "metadata": {},
     "source": [
      "In mathematics a sequence is a set of numbers that corresponds to the positive integers. The numbers in the sequence are called elements. In math notation, the elements are denoted with subscripts, so the first element of the series $A$ is $A_1$, followed by $A_2$, and so on.\n",
      "\n",
      "`for` loops are a natural way to compute the elements of a sequence. As an example, in a geometric sequence, each element is a constant multiple of the previous element. As a more specific example, let\u2019s look at the sequence with $A_1 = 1$ and the ratio $A_{i+1} = A_i/2$, for all $i$. In other words, each element is half as big as the one before it.\n",
      "\n",
      "The following loop computes the first 5 elements of A:"
     ]
    },
    {
     "cell_type": "code",
     "collapsed": false,
     "input": [
      "a = 1.0\n",
      "print a\n",
      "for i in [2,3,4,5]:\n",
      "    a = a/2\n",
      "    print a"
     ],
     "language": "python",
     "metadata": {},
     "outputs": [
      {
       "output_type": "stream",
       "stream": "stdout",
       "text": [
        "1.0\n",
        "0.5\n",
        "0.25\n",
        "0.125\n",
        "0.0625\n"
       ]
      }
     ],
     "prompt_number": 28
    },
    {
     "cell_type": "markdown",
     "metadata": {},
     "source": [
      "Each time through the loop, we find the next value of `a` by dividing the previous value by 2. Notice that the loop index starts at 2 as a reminder the initial value of `a` corresponds to $A_1$, so the first time through the loop we are computing $A_2$.\n",
      "\n",
      "Each time through the loop, we replace the previous element with the next, so at the end, `a` contains the 5th element. The other elements are displayed on the screen, but they are not saved in a variable. Later, we will see how to save all of the elements of a sequence.\n",
      "\n",
      "This loop computes the sequence **recurrently**, which means that each element depends on the previous one. For this sequence it is also possible to compute the \n",
      "i-th element directly, as a function of `i`, without using the previous element. In math notation, $A_i = A_1 r^{i\u22121}$.\n",
      "\n",
      "-----\n",
      "\n",
      "**Exercise 3.3** Write a script named `sequence` that uses a loop to compute elements of $A$ directly.\n",
      "\n",
      "-----"
     ]
    },
    {
     "cell_type": "heading",
     "level": 2,
     "metadata": {},
     "source": [
      "3.7 Series"
     ]
    },
    {
     "cell_type": "markdown",
     "metadata": {},
     "source": [
      "In mathematics, a **series** is the sum of the elements of a sequence. It\u2019s a terrible name, because in common English, \u201csequence\u201d and \u201cseries\u201d mean pretty much the same thing, but in math, a sequence is a set of numbers, and a series is an expression (a sum) that has a single value. In math notation, a series is often written using the summation symbol $\\Sigma$.\n",
      "\n",
      "For example, the sum of the first 10 elements of $A$ is \n",
      "\n",
      "$$\\Sigma_{i=1}^{10} A_i$$"
     ]
    },
    {
     "cell_type": "code",
     "collapsed": false,
     "input": [
      "A1 = 1.0\n",
      "total = 0\n",
      "for i in range(1,11):\n",
      "    a = A1 * 0.5**(i-1);\n",
      "    total = total + a;\n",
      "print total"
     ],
     "language": "python",
     "metadata": {},
     "outputs": [
      {
       "output_type": "stream",
       "stream": "stdout",
       "text": [
        "1.998046875\n"
       ]
      }
     ],
     "prompt_number": 31
    },
    {
     "cell_type": "markdown",
     "metadata": {},
     "source": [
      "`A1` is the first element of the sequence, so each time through the loop `a` is the i-th element.\n",
      "\n",
      "The way we are using `total` is sometimes called an **accumulator**; that is, a variable that accumulates a result a little bit at a time. Before the loop we initialize it to 0. Each time through the loop we add in the i-th element. At the end of the loop `total` contains the sum of the elements. \n",
      "\n",
      "-----\n",
      "\n",
      "**Exercise 3.4** This example computes the terms of the series directly; as an exercise, write a script named `series` that computes the same sum by computing the elements recurrently. You will have to be careful about where you start and stop the loop.\n",
      "\n",
      "-----"
     ]
    },
    {
     "cell_type": "heading",
     "level": 2,
     "metadata": {},
     "source": [
      "3.8 Generalization"
     ]
    },
    {
     "cell_type": "markdown",
     "metadata": {},
     "source": [
      "As written, the previous example always adds up the first 10 elements of the sequence, but we might be curious to know what happens to total as we increase the number of terms in the series. If you have studied geometric series, you might know that this series converges on 2; that is, as the number of terms goes to infinity, the sum approaches 2 asymptotically.\n",
      "\n",
      "To see if that\u2019s true for our program, we could replace the constant, 10, with a variable named `n`:"
     ]
    },
    {
     "cell_type": "code",
     "collapsed": false,
     "input": [
      "n = 10\n",
      "A1 = 1.0\n",
      "total = 0\n",
      "for i in range(1, n+1):\n",
      "    a = A1 * 0.5**(i-1);\n",
      "    total = total + a;\n",
      "print total"
     ],
     "language": "python",
     "metadata": {},
     "outputs": [
      {
       "output_type": "stream",
       "stream": "stdout",
       "text": [
        "1.998046875\n"
       ]
      }
     ],
     "prompt_number": 37
    },
    {
     "cell_type": "code",
     "collapsed": false,
     "input": [
      "n = 30\n",
      "A1 = 1.0\n",
      "total = 0\n",
      "for i in range(1, n+1):\n",
      "    a = A1 * 0.5**(i-1);\n",
      "    total = total + a;\n",
      "print total"
     ],
     "language": "python",
     "metadata": {},
     "outputs": [
      {
       "output_type": "stream",
       "stream": "stdout",
       "text": [
        "1.99999999814\n"
       ]
      }
     ],
     "prompt_number": 39
    },
    {
     "cell_type": "markdown",
     "metadata": {},
     "source": [
      "It sure looks like it\u2019s converging on 2.\n",
      "\n",
      "Replacing a constant with a variable is called **generalization**. Instead of computing a fixed, specific number of terms, the new script is more general; it can compute any number of terms.\n",
      "\n",
      "This is an important idea we will come back to when we talk about functions."
     ]
    },
    {
     "cell_type": "heading",
     "level": 2,
     "metadata": {},
     "source": [
      "3.9 Glossary"
     ]
    },
    {
     "cell_type": "markdown",
     "metadata": {},
     "source": [
      "**absolute error:** The difference between an approximation and an exact answer.\n",
      "\n",
      "**relative error:** The difference between an approximation and an exact answer, expressed as a fraction or percentage of the exact answer.\n",
      "\n",
      "**loop:** A part of a program that runs repeatedly.\n",
      "\n",
      "**loop variable:** A variable, defined in a for statement, that gets assigned a different value each time through the loop.\n",
      "\n",
      "**range:** The set of values that can be assigned to the loop variable. Python built-in function that generates such values. \n",
      "\n",
      "**body:** The statements inside the for loop that are run repeatedly.\n",
      "\n",
      "**sequence:** In mathematics, a set of numbers that correspond to the positive integers.\n",
      "\n",
      "**element:** A member of the set of numbers in a sequence.\n",
      "\n",
      "**recurrently:** A way of computing the next element of a sequence based on previous elements.\n",
      "\n",
      "**directly:** A way of computing an element in a sequence without using previous elements.\n",
      "\n",
      "**series:** The sum of the elements in a sequence.\n",
      "\n",
      "**accumulator:** A variable that is used to accumulate a result a little bit at a time.\n",
      "\n",
      "**generalization:** A way to make a program more versatile, for example by replacing a specific value with a variable that can have any value."
     ]
    },
    {
     "cell_type": "heading",
     "level": 2,
     "metadata": {},
     "source": [
      "3.10 Exercises"
     ]
    },
    {
     "cell_type": "markdown",
     "metadata": {},
     "source": [
      "-----\n",
      "\n",
      "**Exercise 3.5** We have already seen the Fibonacci sequence, $F$ , which is defined recurrently as\n",
      "\n",
      "$$\n",
      "F_i = F_{i\u22121} + F_{i\u22122}\n",
      "$$\n",
      "\n",
      "In order to get started, you have to specify the first two elements, but once you have those, you can compute the rest. The most common Fibonacci sequence starts with $F_1 =1$ and $F_2 = 1$.\n",
      "\n",
      "Write a script called `fibonacci2` that uses a for loop to compute the first 10 elements of this Fibonacci sequence. As a postcondition, your script should assign the 10th element to ans.\n",
      "\n",
      "Now generalize your script so that it computes the n-th element for any value of `n`, with the precondition that you have to set n before you run the script. To keep things simple for now, you can assume that `n` is greater than 2.\n",
      "\n",
      "Hint: you will have to use two variables to keep track of the previous two elements of the sequence. You might want to call them `prev1` and `prev2`. Initially, `prev1 =` $F_1$ and `prev2 =` $F_2$. At the end of the loop, you will have to update `prev1` and `prev2`; think carefully about the order of the updates!\n",
      "\n",
      "**Exercise 3.6** Write a script named `fib_plot` that loops `i` through a range from 1 to 20, uses `fibonacci2` to compute Fibonacci numbers, and plots $F_i$ for each `i` with a series of red circles.\n",
      "\n",
      "-----"
     ]
    }
   ],
   "metadata": {}
  }
 ]
}