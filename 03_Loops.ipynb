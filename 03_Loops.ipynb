{
 "metadata": {
  "name": "03_Loops"
 },
 "nbformat": 3,
 "nbformat_minor": 0,
 "worksheets": [
  {
   "cells": [
    {
     "cell_type": "heading",
     "level": 1,
     "metadata": {},
     "source": [
      "3. Loops"
     ]
    },
    {
     "cell_type": "heading",
     "level": 2,
     "metadata": {},
     "source": [
      "3.1 Updating variables"
     ]
    },
    {
     "cell_type": "markdown",
     "metadata": {},
     "source": [
      "In Exercise 2.3, you might have been tempted to write something like:\n",
      "\n",
      "    a = a - 0.05*a + 0.03*b\n",
      "    b = b + 0.05*a - 0.03*b\n",
      "\n",
      "But that would be wrong, so very wrong. Why? The problem is that the first line changes the value of `a`, so when the second line runs, it gets the old value of `b` and the new value of `a`. As a result, the change in `a` is not always the same as the change in `b`, which violates the principle of Conversation of Cars!\n",
      "\n",
      "One solution is to use temporary variables `anew` and `bnew`:\n",
      "\n",
      "    anew = a - 0.05*a + 0.03*b\n",
      "    bnew = b + 0.05*a - 0.03*b\n",
      "    a = anew\n",
      "    b = bnew\n",
      "\n",
      "This has the effect of updating the variables \u201csimultaneously;\u201d that is, it reads both old values before writing either new value.\n",
      "\n",
      "The following is an alternative solution that has the added advantage of simplifying the computation:\n",
      "\n",
      "    atob = 0.05*a - 0.03*b\n",
      "    a = a - atob\n",
      "    b = b + atob\n",
      "\n",
      "It is easy to look at this code and confirm that it obeys Conversation of Cars. Even if the value of `atob` is wrong, at least the total number of cars is right. And that brings us to the Seventh Theorem of Debugging:\n",
      "\n",
      "> The best way to avoid a bug is to make it impossible.\n",
      "\n",
      "In this case, removing redundancy also eliminates the opportunity for a bug."
     ]
    },
    {
     "cell_type": "heading",
     "level": 2,
     "metadata": {},
     "source": [
      "3.2 Kinds of error"
     ]
    },
    {
     "cell_type": "markdown",
     "metadata": {},
     "source": [
      "There are four kinds of error:\n",
      "\n",
      "**Syntax error:** You have written a Python command that cannot execute because it violates one of the rules of syntax. For example, you can\u2019t have two operands in a row without an operator, so `pi r**2` contains a syntax error. When Python finds a syntax error, it prints an error message and stops running your program.\n",
      "\n",
      "**Runtime error:** Your program starts running, but something goes wrong along the way. For example, if you try to access a variable that doesn\u2019t exist, that\u2019s a runtime error. When Python detects the problem, it prints an error message and stops.\n",
      "\n",
      "**Logical error:** Your program runs without generating any error messages, but it doesn\u2019t do the right thing. The problem in the previous section, where we changed the value of `a` before reading the old value, is a logical error.\n",
      "\n",
      "**Numerical error:** Most computations in Python are only approximately right. Most of the time the errors are small enough that we don\u2019t care, but in some cases the roundoff errors are a problem.\n",
      "\n",
      "Syntax errors are usually the easiest. Sometimes the error messages are confusing, but Python can usually tell you where the error is, at least roughly.\n",
      "\n",
      "Runtime errors are harder because, as I mentioned before, Python can tell you where it detected the problem, but not what caused it.\n",
      "\n",
      "Logical errors are hard because Python can\u2019t help at all. Only you know what the program is supposed to do, so only you can check it. From Python's point of view, there's nothing wrong with the program; the bug is in your head!\n",
      "\n",
      "Numerical errors can be tricky because it's not clear whether the problem is your fault. For most simple computations, Python produces the floating point value that is closest to the exact solution, which means that the first 15 significant digits should be correct. But some computations are ill-conditioned, which means that even if your program is correct, the roundoff errors accumulate and the number of correct digits can be smaller. Sometimes Python can warn you that this is happening, but not always! Precision (the number of digits in the answer) does not imply accuracy (the number of digits that are right)."
     ]
    },
    {
     "cell_type": "heading",
     "level": 2,
     "metadata": {},
     "source": [
      "3.3 Absolute and relative error"
     ]
    },
    {
     "cell_type": "markdown",
     "metadata": {},
     "source": [
      "There are two ways of thinking about numerical errors, called **absolute** and **relative**.\n",
      "\n",
      "An absolute error is just the difference between the correct value and the approximation. We usually write the magnitude of the error, ignoring its sign, because it doesn't matter whether the approximation is too high or too low.\n",
      "\n",
      "For example, we might want to estimate $9!$ using the formula $\\sqrt{18\\pi}(9/e)^9$. The exact answer is $9\\cdot 8\\cdot 7\\cdot  6\\cdot 5\\cdot 4\\cdot 3\\cdot 2\\cdot 1 = 362880 $. The approximation is $359536.87$. The absolute error is $3343.13$.\n",
      "\n",
      "At first glance, that sounds like a lot -- we\u2019re off by three thousand -- but it is worth taking into account the size of the thing we are estimating. For example, $3000 matters a lot if we are talking about my annual salary, but not at all if we are talking about the national debt.\n",
      "\n",
      "A natural way to handle this problem is to use relative error, which is the error expressed as a fraction (or percentage) of the exact value. In this case, we would divide the error by $362880$, yielding $0.00921$, which is just less than 1%. For many purposes, being off by 1% is good enough."
     ]
    },
    {
     "cell_type": "heading",
     "level": 2,
     "metadata": {},
     "source": [
      "3.4 for loops"
     ]
    },
    {
     "cell_type": "markdown",
     "metadata": {},
     "source": [
      "A **loop** is a part of a program that executes repeatedly; a **for loop** is the kind of loop that uses the `for` statement.\n",
      "\n",
      "The simplest use of a for loop is to execute one or more lines a fixed number of times. For example, to calculate $2^n$ for $n$ between 1 and 5, we can do:"
     ]
    },
    {
     "cell_type": "code",
     "collapsed": false,
     "input": [
      "for n in [1,2,3,4,5]:\n",
      "    print 2**n"
     ],
     "language": "python",
     "metadata": {},
     "outputs": [
      {
       "output_type": "stream",
       "stream": "stdout",
       "text": [
        "2\n",
        "4\n",
        "8\n",
        "16\n",
        "32\n"
       ]
      }
     ],
     "prompt_number": 14
    },
    {
     "cell_type": "markdown",
     "metadata": {},
     "source": [
      "In Python, an expression like `[1,2,3,4,5]` means a list of values. The for loop statement means: for each item in the list assign it's value to `n` and exectue `print` statement with that value of `n`.\n",
      "\n",
      "Since working with ranges of numbers is very common, Python has a built-in `range` function to facilitate this:"
     ]
    },
    {
     "cell_type": "code",
     "collapsed": false,
     "input": [
      "range(5)"
     ],
     "language": "python",
     "metadata": {},
     "outputs": [
      {
       "output_type": "pyout",
       "prompt_number": 15,
       "text": [
        "[0, 1, 2, 3, 4]"
       ]
      }
     ],
     "prompt_number": 15
    },
    {
     "cell_type": "code",
     "collapsed": false,
     "input": [
      "range(1,6)"
     ],
     "language": "python",
     "metadata": {},
     "outputs": [
      {
       "output_type": "pyout",
       "prompt_number": 19,
       "text": [
        "[1, 2, 3, 4, 5]"
       ]
      }
     ],
     "prompt_number": 19
    },
    {
     "cell_type": "markdown",
     "metadata": {},
     "source": [
      "(check `range()`'s documentation regarding inclusion of the endpoints)"
     ]
    },
    {
     "cell_type": "markdown",
     "metadata": {},
     "source": [
      "In the for loop above, `n` is called the loop variable. It is a common convention to use short names like `n`, `m`, `i`, `j` and `k` as loop variables (it's best to avoid using small L as it often looks like numerical one in monospace fonts: `l` vs `1`).\n",
      "\n",
      "The statements inside the loop are called the **body**. They are indented to show that they are inside the loop. Unlike most other languages, indentation is significant in Python. The loop ends at the last non-empty line with indentation."
     ]
    },
    {
     "cell_type": "code",
     "collapsed": false,
     "input": [
      "for i in range(1,6):\n",
      "    print i,\n",
      "    print 2**i\n",
      "    \n",
      "print 100"
     ],
     "language": "python",
     "metadata": {},
     "outputs": [
      {
       "output_type": "stream",
       "stream": "stdout",
       "text": [
        "1 2\n",
        "2 4\n",
        "3 8\n",
        "4 16\n",
        "5 32\n",
        "100\n"
       ]
      }
     ],
     "prompt_number": 28
    }
   ],
   "metadata": {}
  }
 ]
}