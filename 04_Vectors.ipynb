{
 "metadata": {
  "name": "04_Vectors"
 },
 "nbformat": 3,
 "nbformat_minor": 0,
 "worksheets": [
  {
   "cells": [
    {
     "cell_type": "heading",
     "level": 1,
     "metadata": {},
     "source": [
      "4. Vectors"
     ]
    },
    {
     "cell_type": "heading",
     "level": 2,
     "metadata": {},
     "source": [
      "4.1 Checking preconditions"
     ]
    },
    {
     "cell_type": "markdown",
     "metadata": {},
     "source": [
      "Some of the loops in the previous chapter don\u2019t work if the value of `n` isn\u2019t set correctly before the loop runs. For example, this loop computes the sum of the first `n` elements of a geometric sequence:"
     ]
    },
    {
     "cell_type": "code",
     "collapsed": false,
     "input": [
      "n = 10\n",
      "A1 = 1\n",
      "total = 0\n",
      "for i in range(1, n+1):\n",
      "    a = A1 * 0.5**(i-1)\n",
      "    total = total + a\n",
      "print total"
     ],
     "language": "python",
     "metadata": {},
     "outputs": [
      {
       "output_type": "stream",
       "stream": "stdout",
       "text": [
        "1.998046875\n"
       ]
      }
     ],
     "prompt_number": 1
    },
    {
     "cell_type": "markdown",
     "metadata": {},
     "source": [
      "It works for any positive value of `n`, but what if n is zero or negative? In that case, you get `total = 0`\n",
      "\n",
      "Why? Because `range(1, n)` with $n \\le 0$ means \"all the numbers from 1 to 0 (or negative number), counting up by 1.\" It\u2019s not immediately obvious what that should mean, but Python's interpretation is that there aren\u2019t any numbers that fit that description, so the result is an empty list."
     ]
    },
    {
     "cell_type": "code",
     "collapsed": false,
     "input": [
      "range(1,0)"
     ],
     "language": "python",
     "metadata": {},
     "outputs": [
      {
       "output_type": "pyout",
       "prompt_number": 2,
       "text": [
        "[]"
       ]
      }
     ],
     "prompt_number": 2
    },
    {
     "cell_type": "markdown",
     "metadata": {},
     "source": [
      "(NB: A **list** is a built-in data structure for working with a sequence of values. Note that a \"sequence\" in Python is a more general concept compared to \"sequence\" in mathematics in the sense that a \"sequence\" can contain non-numerical data.)\n",
      "\n",
      "If you loop over an empty list, the loop never runs at all, which is why in this example the value of `total` will be zero for any negative value of `n`.\n",
      "\n",
      "If you are sure that you will never make a mistake, and that the preconditions of your functions will always be satisfied, then you don\u2019t have to check. But for the rest of us, it is dangerous to write a script, like this one, that quietly produces the wrong answer (or at least a meaningless answer) if the input value is negative. A better alternative is to use an `if` statement.\n"
     ]
    },
    {
     "cell_type": "heading",
     "level": 2,
     "metadata": {},
     "source": [
      "4.2 if"
     ]
    },
    {
     "cell_type": "markdown",
     "metadata": {},
     "source": [
      "The `if` statement allows you to check for certain conditions and execute statements if the conditions are met. In the previous example, we could write:"
     ]
    },
    {
     "cell_type": "code",
     "collapsed": false,
     "input": [
      "n = -1\n",
      "if n < 0:\n",
      "    print \"Warning: n is negative\"\n",
      "    total = None"
     ],
     "language": "python",
     "metadata": {},
     "outputs": [
      {
       "output_type": "stream",
       "stream": "stdout",
       "text": [
        "Warning: n is negative\n"
       ]
      }
     ],
     "prompt_number": 3
    },
    {
     "cell_type": "markdown",
     "metadata": {},
     "source": [
      "The syntax is similar to a `for` loop. The first line specifies the condition we are interested in; in this case we are asking if `n` is negative. If it is, Python executes the body of the if statement, which is, just like in a for loop, the indented sequence of statements.\n",
      "\n",
      "`None` is a built-in constant in Python to indicate explicitly the absence of a value. For numerical applications another constant known as NaN (not a number) is more appropriate. It is defined in the [NumPy](http://www.numpy.org/) library and will be introduced later in this chapter.\n",
      "\n",
      "If the condition is not satisfied, the statements in the body are not executed. Sometimes there are alternative statements to execute when the condition is false. In that case you can extend the `if` statement with an `else` clause."
     ]
    },
    {
     "cell_type": "code",
     "collapsed": false,
     "input": [
      "n = -1\n",
      "\n",
      "if n < 0:\n",
      "    print \"Warning: n is negative\"\n",
      "    total = None\n",
      "else:\n",
      "    A1 = 1\n",
      "    total = 0\n",
      "    for i in range(1, n+1):\n",
      "        a = A1 * 0.5**(i-1)\n",
      "        total = total + a\n",
      "    print \"still inside else clause\"\n",
      "\n",
      "print total"
     ],
     "language": "python",
     "metadata": {},
     "outputs": [
      {
       "output_type": "stream",
       "stream": "stdout",
       "text": [
        "Warning: n is negative\n",
        "None\n"
       ]
      }
     ],
     "prompt_number": 4
    },
    {
     "cell_type": "markdown",
     "metadata": {},
     "source": [
      "Statements like if and for that contain multiple statements inside the body are called **compound** statements. Notice how indentation is used to group the statements together. \n",
      "\n",
      "In this example, one of the statements in the else clause is a for loop. Putting one compound statement inside another is legal and common, and sometimes called **nesting**."
     ]
    },
    {
     "cell_type": "heading",
     "level": 2,
     "metadata": {},
     "source": [
      "4.3 Relational operators"
     ]
    },
    {
     "cell_type": "markdown",
     "metadata": {},
     "source": [
      "The operators that compare values, like `<` and `>` are called relational operators because they test the relationship between two values. The result of a relational operator is one of the logical values: either `True` or `False`. `True` and `False` are built-in constants of special `bool` (boolean) type which is derived from `int`. `True` correspond to 1, while `False` correspond to 0."
     ]
    },
    {
     "cell_type": "code",
     "collapsed": false,
     "input": [
      "x = 5\n",
      "x < 10"
     ],
     "language": "python",
     "metadata": {},
     "outputs": [
      {
       "output_type": "pyout",
       "prompt_number": 5,
       "text": [
        "True"
       ]
      }
     ],
     "prompt_number": 5
    },
    {
     "cell_type": "code",
     "collapsed": false,
     "input": [
      "int(True)"
     ],
     "language": "python",
     "metadata": {},
     "outputs": [
      {
       "output_type": "pyout",
       "prompt_number": 6,
       "text": [
        "1"
       ]
      }
     ],
     "prompt_number": 6
    },
    {
     "cell_type": "markdown",
     "metadata": {},
     "source": [
      "You can assign a logical value to a variable:"
     ]
    },
    {
     "cell_type": "code",
     "collapsed": false,
     "input": [
      "flag = x > 10\n",
      "print(flag)"
     ],
     "language": "python",
     "metadata": {},
     "outputs": [
      {
       "output_type": "stream",
       "stream": "stdout",
       "text": [
        "False\n"
       ]
      }
     ],
     "prompt_number": 7
    },
    {
     "cell_type": "markdown",
     "metadata": {},
     "source": [
      "A variable that contains a logical value is often called a **flag** because it flags the status of some condition.\n",
      "\n",
      "The other relational operators are `<=` and `>=`, which are self-explanatory, `==`, for \"equal,\" and `!=`, for \"not equal.\"\n",
      "\n",
      "Don't forget that `==` is the operator that tests equality, and `=` is the assignment operator. If you try to use `=` in an `if` statement, you get a syntax error:"
     ]
    },
    {
     "cell_type": "code",
     "collapsed": false,
     "input": [
      "if x = 5"
     ],
     "language": "python",
     "metadata": {},
     "outputs": [
      {
       "ename": "SyntaxError",
       "evalue": "invalid syntax (<ipython-input-8-daf3c183395c>, line 1)",
       "output_type": "pyerr",
       "traceback": [
        "\u001b[0;36m  File \u001b[0;32m\"<ipython-input-8-daf3c183395c>\"\u001b[0;36m, line \u001b[0;32m1\u001b[0m\n\u001b[0;31m    if x = 5\u001b[0m\n\u001b[0m         ^\u001b[0m\n\u001b[0;31mSyntaxError\u001b[0m\u001b[0;31m:\u001b[0m invalid syntax\n"
       ]
      }
     ],
     "prompt_number": 8
    },
    {
     "cell_type": "heading",
     "level": 2,
     "metadata": {},
     "source": [
      "4.4 Logical operators"
     ]
    },
    {
     "cell_type": "markdown",
     "metadata": {},
     "source": [
      "To test if a number falls in an interval, you can write something like `0 < x < 10`. Python interprets this as `(0 < x) and (x < 10)`."
     ]
    },
    {
     "cell_type": "code",
     "collapsed": false,
     "input": [
      "x = 5\n",
      "0 < x < 10"
     ],
     "language": "python",
     "metadata": {},
     "outputs": [
      {
       "output_type": "pyout",
       "prompt_number": 9,
       "text": [
        "True"
       ]
      }
     ],
     "prompt_number": 9
    },
    {
     "cell_type": "code",
     "collapsed": false,
     "input": [
      "x = 17\n",
      "0 < x < 10"
     ],
     "language": "python",
     "metadata": {},
     "outputs": [
      {
       "output_type": "pyout",
       "prompt_number": 10,
       "text": [
        "False"
       ]
      }
     ],
     "prompt_number": 10
    },
    {
     "cell_type": "markdown",
     "metadata": {},
     "source": [
      "The explicit form (including `and`) is a valid python expression and it is better to use it (less chances for errors) when working with complex expressions. `and` is a \"logical and\" operator. The result is `True` is both operands are true. It won't be that hard to guess the meanning of `or` and `not` operators."
     ]
    },
    {
     "cell_type": "code",
     "collapsed": false,
     "input": [
      "not (True or False)"
     ],
     "language": "python",
     "metadata": {},
     "outputs": [
      {
       "output_type": "pyout",
       "prompt_number": 11,
       "text": [
        "False"
       ]
      }
     ],
     "prompt_number": 11
    },
    {
     "cell_type": "heading",
     "level": 2,
     "metadata": {},
     "source": [
      "4.5 Vectors"
     ]
    },
    {
     "cell_type": "markdown",
     "metadata": {},
     "source": [
      "The values we have seen so far are all single numbers, which are called **scalars** to contrast them with **vectors** and **matrices**, which are collections of numbers.\n",
      "\n",
      "The closest thing to a vector that is available in Python by default is a list. In the programming context, a list is a sequence of values (of numerical or non-numerical type). In many languages, including Python, lists are created using squared brackets ('[]').\n",
      "\n",
      "In general, anything you can do with a scalar, you can also do with a list. For example you can assign a vector value to a variable:"
     ]
    },
    {
     "cell_type": "code",
     "collapsed": false,
     "input": [
      "x = [1, 2, 3, 4]\n",
      "x, type(x)"
     ],
     "language": "python",
     "metadata": {},
     "outputs": [
      {
       "output_type": "pyout",
       "prompt_number": 33,
       "text": [
        "([1, 2, 3, 4], list)"
       ]
      }
     ],
     "prompt_number": 33
    },
    {
     "cell_type": "markdown",
     "metadata": {},
     "source": [
      "Lists can be 'added' together or 'multiplied' by a number, but the result may not be what you'd expect:"
     ]
    },
    {
     "cell_type": "code",
     "collapsed": false,
     "input": [
      "x + [5]"
     ],
     "language": "python",
     "metadata": {},
     "outputs": [
      {
       "output_type": "pyout",
       "prompt_number": 34,
       "text": [
        "[1, 2, 3, 4, 5]"
       ]
      }
     ],
     "prompt_number": 34
    },
    {
     "cell_type": "code",
     "collapsed": false,
     "input": [
      "x * 2"
     ],
     "language": "python",
     "metadata": {},
     "outputs": [
      {
       "output_type": "pyout",
       "prompt_number": 35,
       "text": [
        "[1, 2, 3, 4, 1, 2, 3, 4]"
       ]
      }
     ],
     "prompt_number": 35
    },
    {
     "cell_type": "heading",
     "level": 2,
     "metadata": {},
     "source": [
      "4.6 Vector arithmetic"
     ]
    },
    {
     "cell_type": "heading",
     "level": 3,
     "metadata": {},
     "source": [
      "Regular Python vs Scientific Python"
     ]
    },
    {
     "cell_type": "markdown",
     "metadata": {},
     "source": [
      "Regular Python list addition means concatenation, while multiplication means repetition. This behavior is normal in the standard programming context. But not in the context of numerical computation (using Matlab or [IDL](https://en.wikipedia.org/wiki/IDL_(programming_language)) and similar tools) which allow direct vector arithmetic (operations performed element-wise). This functionality is available in Python through [NumPy](http://www.numpy.org/) library. The first line on the NumPy's website says: \n",
      "\n",
      "> NumPy is the fundamental package for scientific computing with Python.\n",
      "\n",
      "NumPy provides a powerful N-dimensional **array** object which allows creation and manipulation of vectors, matrices and numerical objects with more dimensions. For example, vectors can be represented as one-dimensional arrays. In general, an array is similar to a list in the sense that it contains a sequence of values. The difference is that all values in an array must be of the same type (all integers or all floats).\n",
      "\n",
      "To work with Numpy, it simply needs to be \"imported\", just like any other Python module. The canonical syntax is:"
     ]
    },
    {
     "cell_type": "code",
     "collapsed": false,
     "input": [
      "import numpy as np"
     ],
     "language": "python",
     "metadata": {},
     "outputs": [],
     "prompt_number": 40
    },
    {
     "cell_type": "code",
     "collapsed": false,
     "input": [
      "x = np.array([1, 2, 3, 4])\n",
      "x"
     ],
     "language": "python",
     "metadata": {},
     "outputs": [
      {
       "output_type": "pyout",
       "prompt_number": 41,
       "text": [
        "array([1, 2, 3, 4])"
       ]
      }
     ],
     "prompt_number": 41
    },
    {
     "cell_type": "code",
     "collapsed": false,
     "input": [
      "y = x + 5\n",
      "y"
     ],
     "language": "python",
     "metadata": {},
     "outputs": [
      {
       "output_type": "pyout",
       "prompt_number": 42,
       "text": [
        "array([6, 7, 8, 9])"
       ]
      }
     ],
     "prompt_number": 42
    },
    {
     "cell_type": "markdown",
     "metadata": {},
     "source": [
      "The result is a new array; the original value of `x` is not changed. \n",
      "\n",
      "If you add two arrays, NumPy adds the corresponding elements of each arrary:"
     ]
    },
    {
     "cell_type": "code",
     "collapsed": false,
     "input": [
      "z = x + y\n",
      "z"
     ],
     "language": "python",
     "metadata": {},
     "outputs": [
      {
       "output_type": "pyout",
       "prompt_number": 43,
       "text": [
        "array([ 7,  9, 11, 13])"
       ]
      }
     ],
     "prompt_number": 43
    },
    {
     "cell_type": "markdown",
     "metadata": {},
     "source": [
      "But adding array only works if the operands are the same size. Otherwise:"
     ]
    },
    {
     "cell_type": "code",
     "collapsed": false,
     "input": [
      "w = np.array([1,2])\n",
      "x + w"
     ],
     "language": "python",
     "metadata": {},
     "outputs": [
      {
       "ename": "ValueError",
       "evalue": "operands could not be broadcast together with shapes (4) (2) ",
       "output_type": "pyerr",
       "traceback": [
        "\u001b[0;31m---------------------------------------------------------------------------\u001b[0m\n\u001b[0;31mValueError\u001b[0m                                Traceback (most recent call last)",
        "\u001b[0;32m<ipython-input-44-1a9d7d62c2e2>\u001b[0m in \u001b[0;36m<module>\u001b[0;34m()\u001b[0m\n\u001b[1;32m      1\u001b[0m \u001b[0mw\u001b[0m \u001b[0;34m=\u001b[0m \u001b[0mnp\u001b[0m\u001b[0;34m.\u001b[0m\u001b[0marray\u001b[0m\u001b[0;34m(\u001b[0m\u001b[0;34m[\u001b[0m\u001b[0;36m1\u001b[0m\u001b[0;34m,\u001b[0m\u001b[0;36m2\u001b[0m\u001b[0;34m]\u001b[0m\u001b[0;34m)\u001b[0m\u001b[0;34m\u001b[0m\u001b[0m\n\u001b[0;32m----> 2\u001b[0;31m \u001b[0mx\u001b[0m \u001b[0;34m+\u001b[0m \u001b[0mw\u001b[0m\u001b[0;34m\u001b[0m\u001b[0m\n\u001b[0m",
        "\u001b[0;31mValueError\u001b[0m: operands could not be broadcast together with shapes (4) (2) "
       ]
      }
     ],
     "prompt_number": 44
    },
    {
     "cell_type": "markdown",
     "metadata": {},
     "source": [
      "The error message in this case is confusing. In NumPy's vocabulary, \"shape\" refers to array dimensions and \"broadcasting\" is how NumPy treats arrays with different shapes during arithmetic operations."
     ]
    },
    {
     "cell_type": "heading",
     "level": 2,
     "metadata": {},
     "source": [
      "4.7 Everything is a matrix"
     ]
    },
    {
     "cell_type": "markdown",
     "metadata": {},
     "source": [
      "In math (specifically in linear algebra) a vector is a one-dimensional sequence of values and a matrix is two-dimensional (and, if you want to think of it that way, a scalar is zero-dimensional). In NumPy, everything is a matrix."
     ]
    },
    {
     "cell_type": "code",
     "collapsed": false,
     "input": [
      "scalar = 1.0\n",
      "vector = np.arange(1,6)\n",
      "matrix = np.ones((2, 3))"
     ],
     "language": "python",
     "metadata": {},
     "outputs": [],
     "prompt_number": 49
    },
    {
     "cell_type": "code",
     "collapsed": false,
     "input": [
      "del(x, y, z, w)\n",
      "%whos"
     ],
     "language": "python",
     "metadata": {},
     "outputs": [
      {
       "output_type": "stream",
       "stream": "stdout",
       "text": [
        "Variable   Type       Data/Info\n",
        "-------------------------------\n",
        "matrix     ndarray    2x3: 6 elems, type `float64`, 48 bytes\n",
        "np         module     <module 'numpy' from '/Us<...>ages/numpy/__init__.pyc'>\n",
        "scalar     float      1.0\n",
        "vector     ndarray    5: 5 elems, type `int64`, 40 bytes\n"
       ]
      }
     ],
     "prompt_number": 52
    },
    {
     "cell_type": "markdown",
     "metadata": {},
     "source": [
      "TODO"
     ]
    },
    {
     "cell_type": "heading",
     "level": 2,
     "metadata": {},
     "source": [
      "4.8 Indices"
     ]
    },
    {
     "cell_type": "markdown",
     "metadata": {},
     "source": [
      "You can select elements of an array with square brackets:"
     ]
    },
    {
     "cell_type": "code",
     "collapsed": false,
     "input": [
      "v = np.array([10, 20, 30])\n",
      "v[1]"
     ],
     "language": "python",
     "metadata": {},
     "outputs": [
      {
       "output_type": "pyout",
       "prompt_number": 55,
       "text": [
        "20"
       ]
      }
     ],
     "prompt_number": 55
    },
    {
     "cell_type": "code",
     "collapsed": false,
     "input": [],
     "language": "python",
     "metadata": {},
     "outputs": []
    }
   ],
   "metadata": {}
  }
 ]
}