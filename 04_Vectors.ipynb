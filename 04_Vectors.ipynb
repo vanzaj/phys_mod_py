{
 "metadata": {
  "name": "04_Vectors"
 },
 "nbformat": 3,
 "nbformat_minor": 0,
 "worksheets": [
  {
   "cells": [
    {
     "cell_type": "heading",
     "level": 1,
     "metadata": {},
     "source": [
      "4. Vectors"
     ]
    },
    {
     "cell_type": "heading",
     "level": 2,
     "metadata": {},
     "source": [
      "4.1 Checking preconditions"
     ]
    },
    {
     "cell_type": "markdown",
     "metadata": {},
     "source": [
      "Some of the loops in the previous chapter don\u2019t work if the value of `n` isn\u2019t set correctly before the loop runs. For example, this loop computes the sum of the first `n` elements of a geometric sequence:"
     ]
    },
    {
     "cell_type": "code",
     "collapsed": false,
     "input": [
      "n = 10\n",
      "A1 = 1\n",
      "total = 0\n",
      "for i in range(1, n+1):\n",
      "    a = A1 * 0.5**(i-1)\n",
      "    total = total + a\n",
      "print total"
     ],
     "language": "python",
     "metadata": {},
     "outputs": [
      {
       "output_type": "stream",
       "stream": "stdout",
       "text": [
        "1.998046875\n"
       ]
      }
     ],
     "prompt_number": 13
    },
    {
     "cell_type": "markdown",
     "metadata": {},
     "source": [
      "It works for any positive value of `n`, but what if n is zero or negative? In that case, you get `total = 0`\n",
      "\n",
      "Why? Because `range(1, n)` with $n \\le 0$ means \"all the numbers from 1 to 0 (or negative number), counting up by 1.\" It\u2019s not immediately obvious what that should mean, but Python's interpretation is that there aren\u2019t any numbers that fit that description, so the result is an empty list."
     ]
    },
    {
     "cell_type": "code",
     "collapsed": false,
     "input": [
      "range(1,0)"
     ],
     "language": "python",
     "metadata": {},
     "outputs": [
      {
       "output_type": "pyout",
       "prompt_number": 18,
       "text": [
        "[]"
       ]
      }
     ],
     "prompt_number": 18
    },
    {
     "cell_type": "markdown",
     "metadata": {},
     "source": [
      "(NB: A **list** is a built-in data structure for working with a sequence of values. Note that a \"sequence\" in Python is a more general concept compared to \"sequence\" in mathematics in the sense that a \"sequence\" can contain non-numerical data.)\n",
      "\n",
      "If you loop over an empty list, the loop never runs at all, which is why in this example the value of `total` will be zero for any negative value of `n`.\n",
      "\n",
      "If you are sure that you will never make a mistake, and that the preconditions of your functions will always be satisfied, then you don\u2019t have to check. But for the rest of us, it is dangerous to write a script, like this one, that quietly produces the wrong answer (or at least a meaningless answer) if the input value is negative. A better alternative is to use an `if` statement.\n"
     ]
    },
    {
     "cell_type": "heading",
     "level": 2,
     "metadata": {},
     "source": [
      "4.2 if"
     ]
    },
    {
     "cell_type": "markdown",
     "metadata": {},
     "source": [
      "The `if` statement allows you to check for certain conditions and execute statements if the conditions are met. In the previous example, we could write:"
     ]
    },
    {
     "cell_type": "code",
     "collapsed": false,
     "input": [
      "n = -1\n",
      "if n < 0:\n",
      "    print \"Warning: n is negative\"\n",
      "    total = None"
     ],
     "language": "python",
     "metadata": {},
     "outputs": [
      {
       "output_type": "stream",
       "stream": "stdout",
       "text": [
        "Warning: n is negative\n"
       ]
      }
     ],
     "prompt_number": 21
    },
    {
     "cell_type": "markdown",
     "metadata": {},
     "source": [
      "The syntax is similar to a `for` loop. The first line specifies the condition we are interested in; in this case we are asking if `n` is negative. If it is, Python executes the body of the if statement, which is, just like in a for loop, the indented sequence of statements.\n",
      "\n",
      "`None` is a built-in constant in Python to indicate explicitly the absence of a value. For numerical applications another constant known as NaN (not a number) is more appropriate. It is defined in the [NumPy](http://www.numpy.org/) library and will be introduced later in the book.\n",
      "\n",
      "If the condition is not satisfied, the statements in the body are not executed. Sometimes there are alternative statements to execute when the condition is false. In that case you can extend the `if` statement with an `else` clause."
     ]
    },
    {
     "cell_type": "code",
     "collapsed": false,
     "input": [
      "n = -1\n",
      "\n",
      "if n < 0:\n",
      "    print \"Warning: n is negative\"\n",
      "    total = None\n",
      "else:\n",
      "    A1 = 1\n",
      "    total = 0\n",
      "    for i in range(1, n+1):\n",
      "        a = A1 * 0.5**(i-1)\n",
      "        total = total + a\n",
      "    print \"still inside else clause\"\n",
      "\n",
      "print total"
     ],
     "language": "python",
     "metadata": {},
     "outputs": [
      {
       "output_type": "stream",
       "stream": "stdout",
       "text": [
        "None\n"
       ]
      }
     ],
     "prompt_number": 27
    },
    {
     "cell_type": "markdown",
     "metadata": {},
     "source": [
      "Statements like if and for that contain multiple statements inside the body are called **compound** statements. Notice how indentation is used to group the statements together. \n",
      "\n",
      "In this example, one of the statements in the else clause is a for loop. Putting one compound statement inside another is legal and common, and sometimes called **nesting**."
     ]
    },
    {
     "cell_type": "heading",
     "level": 2,
     "metadata": {},
     "source": [
      "4.3 Relational operators"
     ]
    },
    {
     "cell_type": "code",
     "collapsed": false,
     "input": [],
     "language": "python",
     "metadata": {},
     "outputs": []
    }
   ],
   "metadata": {}
  }
 ]
}