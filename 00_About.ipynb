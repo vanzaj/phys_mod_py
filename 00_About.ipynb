{
 "metadata": {
  "name": "00_About"
 },
 "nbformat": 3,
 "nbformat_minor": 0,
 "worksheets": [
  {
   "cells": [
    {
     "cell_type": "heading",
     "level": 1,
     "metadata": {},
     "source": [
      "Physical Modeling in Python"
     ]
    },
    {
     "cell_type": "heading",
     "level": 2,
     "metadata": {},
     "source": [
      "About"
     ]
    },
    {
     "cell_type": "markdown",
     "metadata": {},
     "source": [
      "This is a \"python translation\" of [Physical Modeling in MATLAB](http://greenteapress.com/matlab/) book by Allen B. Downey. It is intended for students and instructors of scientific programming and engineering classes.\n",
      "\n",
      "The book itself is written using [IPython notebook](http://ipython.org/notebook.html) -- a modern web based environment for highly interactive, [literate programming](http://en.wikipedia.org/wiki/Literate_programming) in Python which is already very popular in the scientific community.\n"
     ]
    }
   ],
   "metadata": {}
  }
 ]
}