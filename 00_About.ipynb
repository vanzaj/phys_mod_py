{
 "metadata": {
  "name": "00_About"
 },
 "nbformat": 3,
 "nbformat_minor": 0,
 "worksheets": [
  {
   "cells": [
    {
     "cell_type": "heading",
     "level": 1,
     "metadata": {},
     "source": [
      "Physical Modeling in Python"
     ]
    },
    {
     "cell_type": "heading",
     "level": 1,
     "metadata": {},
     "source": [
      "About"
     ]
    },
    {
     "cell_type": "markdown",
     "metadata": {},
     "source": [
      "This is a \"translation\" of [Physical Modeling in MATLAB](http://greenteapress.com/matlab/) book by Allen B. Downey into Python. It is intended for students and instructors of scientific programming and engineering classes.\n",
      "\n",
      "The book itself is written using [IPython notebook](http://ipython.org/notebook.html) -- a modern web based environment for highly interactive, [literate programming](http://en.wikipedia.org/wiki/Literate_programming) in Python which is very popular in the scientific community."
     ]
    },
    {
     "cell_type": "markdown",
     "metadata": {},
     "source": [
      "## Conventions\n",
      "\n",
      "### Integer division\n",
      "\n",
      "The behavior of the division operator, '/', is that of Python 3.x, i.e. a \"real\" division (1/3 produces 0.3333).\n",
      "If you are running under Python 2.x use `from __future__ import division`."
     ]
    }
   ],
   "metadata": {}
  }
 ]
}