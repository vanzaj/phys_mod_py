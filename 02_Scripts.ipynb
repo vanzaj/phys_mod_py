{
 "metadata": {
  "name": "02_Scripts"
 },
 "nbformat": 3,
 "nbformat_minor": 0,
 "worksheets": [
  {
   "cells": [
    {
     "cell_type": "heading",
     "level": 1,
     "metadata": {},
     "source": [
      "Scripts"
     ]
    },
    {
     "cell_type": "heading",
     "level": 2,
     "metadata": {},
     "source": [
      "2.1 py-files"
     ]
    },
    {
     "cell_type": "markdown",
     "metadata": {},
     "source": [
      "So far we have typed all commands \u201cat the prompt,\u201d which is fine if you are not writing more than a few lines. Beyond that, you will want to store your program in a script and then **execute** (or run) the script. A script is a file that contains Python code. Typically these files have \".py\" extension. Python files are also called modules.\n",
      "\n",
      "You can create and edit scripts with any text editor, standalone (Notepad++, Sublime Text, Komodo Edit, Vim, Emacs, ...) or inside an Integrated Development Environment (Eclipse+PyDev, Visual Studio+Python Tools, ...). Most modern text editors have \"Python mode\" to help writing Python code. In [IPython notebook](http://ipython.org/notebook.html), each \"cell\" acts both an an interactive prompt and a mini text editor. It is possible to save the content of any cell into a file."
     ]
    },
    {
     "cell_type": "code",
     "collapsed": false,
     "input": [
      "%%file myscript.py\n",
      "x = 5\n",
      "print x"
     ],
     "language": "python",
     "metadata": {},
     "outputs": [
      {
       "output_type": "stream",
       "stream": "stdout",
       "text": [
        "Overwriting myscript.py\n"
       ]
      }
     ],
     "prompt_number": 1
    },
    {
     "cell_type": "markdown",
     "metadata": {},
     "source": [
      "Now we can execute the script using `%run` ipython's magic command."
     ]
    },
    {
     "cell_type": "code",
     "collapsed": false,
     "input": [
      "%run myscript.py"
     ],
     "language": "python",
     "metadata": {},
     "outputs": [
      {
       "output_type": "stream",
       "stream": "stdout",
       "text": [
        "5\n"
       ]
      }
     ],
     "prompt_number": 2
    },
    {
     "cell_type": "markdown",
     "metadata": {},
     "source": [
      "The variables defined in `myscript.py` are now available in our workspace."
     ]
    },
    {
     "cell_type": "code",
     "collapsed": false,
     "input": [
      "print x"
     ],
     "language": "python",
     "metadata": {},
     "outputs": [
      {
       "output_type": "stream",
       "stream": "stdout",
       "text": [
        "5\n"
       ]
      }
     ],
     "prompt_number": 3
    },
    {
     "cell_type": "markdown",
     "metadata": {},
     "source": [
      "We can also use regular `python` interpreter to execute our script (*Note:* we can do this directly from the notebook using ipython's \"!\" magic)."
     ]
    },
    {
     "cell_type": "code",
     "collapsed": false,
     "input": [
      "!echo \"python binary is\" `which python`\n",
      "!echo \"running myscript.py\"\n",
      "!python myscript.py"
     ],
     "language": "python",
     "metadata": {},
     "outputs": [
      {
       "output_type": "stream",
       "stream": "stdout",
       "text": [
        "python binary is /usr/local/bin/python\r\n"
       ]
      },
      {
       "output_type": "stream",
       "stream": "stdout",
       "text": [
        "running myscript.py\r\n"
       ]
      },
      {
       "output_type": "stream",
       "stream": "stdout",
       "text": [
        "5\r\n"
       ]
      }
     ],
     "prompt_number": 4
    },
    {
     "cell_type": "markdown",
     "metadata": {},
     "source": [
      "If you try executing nonexisting file, you will get an error message:"
     ]
    },
    {
     "cell_type": "code",
     "collapsed": false,
     "input": [
      "%run anotherscript.py"
     ],
     "language": "python",
     "metadata": {},
     "outputs": [
      {
       "output_type": "stream",
       "stream": "stderr",
       "text": [
        "ERROR: File `u'anotherscript.py'` not found."
       ]
      }
     ],
     "prompt_number": 5
    },
    {
     "cell_type": "markdown",
     "metadata": {},
     "source": [
      "Make sure you didn't misspell the script file name and that your current working directory contains the script."
     ]
    },
    {
     "cell_type": "code",
     "collapsed": false,
     "input": [
      "!ls my*.py"
     ],
     "language": "python",
     "metadata": {},
     "outputs": [
      {
       "output_type": "stream",
       "stream": "stdout",
       "text": [
        "myscript.py\r\n"
       ]
      }
     ],
     "prompt_number": 6
    },
    {
     "cell_type": "markdown",
     "metadata": {},
     "source": [
      "When you write scripts as modules, Python will looks for them in it's search path."
     ]
    },
    {
     "cell_type": "code",
     "collapsed": false,
     "input": [
      "import sys\n",
      "sys.path.append('/path/to/my/python/code')\n",
      "sys.path"
     ],
     "language": "python",
     "metadata": {},
     "outputs": [
      {
       "output_type": "pyout",
       "prompt_number": 7,
       "text": [
        "['',\n",
        " '/usr/local/Cellar/python/2.7.4/Frameworks/Python.framework/Versions/2.7/lib/python2.7/site-packages/pip-1.3.1-py2.7.egg',\n",
        " '/usr/local/lib/python2.7/site-packages/pip-1.3.1-py2.7.egg',\n",
        " '/usr/local/Cellar/python/2.7.4/Frameworks/Python.framework/Versions/2.7/lib/python27.zip',\n",
        " '/usr/local/Cellar/python/2.7.4/Frameworks/Python.framework/Versions/2.7/lib/python2.7',\n",
        " '/usr/local/Cellar/python/2.7.4/Frameworks/Python.framework/Versions/2.7/lib/python2.7/plat-darwin',\n",
        " '/usr/local/Cellar/python/2.7.4/Frameworks/Python.framework/Versions/2.7/lib/python2.7/plat-mac',\n",
        " '/usr/local/Cellar/python/2.7.4/Frameworks/Python.framework/Versions/2.7/lib/python2.7/plat-mac/lib-scriptpackages',\n",
        " '/usr/local/Cellar/python/2.7.4/Frameworks/Python.framework/Versions/2.7/lib/python2.7/lib-tk',\n",
        " '/usr/local/Cellar/python/2.7.4/Frameworks/Python.framework/Versions/2.7/lib/python2.7/lib-old',\n",
        " '/usr/local/Cellar/python/2.7.4/Frameworks/Python.framework/Versions/2.7/lib/python2.7/lib-dynload',\n",
        " '/Library/Python/2.7/site-packages',\n",
        " '/usr/local/lib/python2.7/site-packages',\n",
        " '/usr/local/lib/python2.7/site-packages/IPython/extensions',\n",
        " '/path/to/my/python/code']"
       ]
      }
     ],
     "prompt_number": 7
    },
    {
     "cell_type": "markdown",
     "metadata": {},
     "source": [
      "*Note 1:* There are multiple ways to configure Python's search path.  \n",
      "*Note 2:* I'm currently using OS X 10.8.3 with Python 2.7.4 installed using [homebrew](http://mxcl.github.io/homebrew/). Your results will very likely look different.\n",
      "\n",
      "Keeping track of your scripts can be a pain. To keep things simple, for now, I suggest putting all of your scripts in one \"sensibly\" named directory, for example `/Users/joe/dev/python` or `/home/joe/dev/python` or `C:\\joe\\dev\\python` depending on your operating system."
     ]
    },
    {
     "cell_type": "markdown",
     "metadata": {},
     "source": [
      "**Exercise 2.1** *The Fibonacci sequence, denoted* $F$, *is described by the equations* $F_1 = 1$, $F_2 = 1$, and for $i \\ge 3$, $F_{i} = F_{i-1} + F_{i-2}$. *The elements of this sequence occur naturally in many plants, particularly those with petals or scales arranged in the form of a\n",
      "logarithmic spiral.*\n",
      "\n",
      "*The following expression computes the nth Fibonacci number:*\n",
      "\n",
      "$$\n",
      "F_n = \\frac{1}{\\sqrt{5}}\n",
      "\\left[\n",
      "\\left( \\frac{1 + \\sqrt{5}}{2} \\right)^{n} -\n",
      "\\left( \\frac{1 - \\sqrt{5}}{2} \\right)^{n}\n",
      "\\right]\n",
      "$$\n",
      "\n",
      "*Translate this expression into Python and store your code in a file named `fibonacci1`. At the prompt, set the value of `n` to 10 and then run your script.* \n",
      "*At the end of your script assign the value of* $F_n$ *to a variable named `fib_value` and display the value on the screeen* . (The correct value of $F_{10}$ is 55)."
     ]
    },
    {
     "cell_type": "heading",
     "level": 2,
     "metadata": {},
     "source": [
      "2.2 Why scripts?"
     ]
    },
    {
     "cell_type": "markdown",
     "metadata": {},
     "source": [
      "The most common reasons to use scripts are:\n",
      "\n",
      "- When you are writing more than a couple of lines of code, it might take a few tries to get everything right. \n",
      "  Putting your code in a script makes it easier to edit than typing it at the prompt.\n",
      "  \n",
      "  On the other hand (if you're not using IPython Notebook), it can be a pain to switch back and forth between the Command Prompt and the Editor. \n",
      "  Try to arrange your windows so you can see the Editor and the Command Window at the same time, and use the keyboard shortcut or the mouse to switch between them.\n",
      "\n",
      "- If you choose good names for your scripts, you will be able to remember which script does what, and you might be able to reuse a script from one project to the next.\n",
      "\n",
      "- If you run a script repeatedly, it is faster to type the name of the script than to retype the code!\n",
      "\n",
      "\n",
      "Unfortunately, the great power of scripts comes with great responsibility, which is that you have to make sure that the code you are running is the code you think you are running.\n",
      "\n",
      "First, whenever you edit your script, you have to save it before you run it. If you forget to save it, you will be running the old version. Second, you have to \"tell\" Python to reload your code (look for `reload()` or `%autoreload` documentation). If you're using IPython notebook, don't forget to \"Run\" the cell to make it's content available in other cells.\n",
      "\n",
      "Also, whenever you start a new script, you can start it with a simple print statement, like `print 42`, that produces a visible effect. Then run your script and confirm that you get what you expect. Python comes with a few built-in functions and a huge number of functions available in modules. It is easy to write a script that has the same name as an existing function, and if you are not careful, you might find yourself running an existing function instead of your script. There is a concept of namespaces in Python that helps to avoid \"name collisions\", but it's still your responsibility to make sure they don't happen.\n",
      "\n",
      "If the code you are running is not the code you are looking at, you will find debugging a frustrating exercise! And that brings us to the Third Theorem of Debugging:\n",
      "\n",
      "> You must always be 100% sure that the code you are running is the code you think you are running.\n"
     ]
    },
    {
     "cell_type": "heading",
     "level": 2,
     "metadata": {},
     "source": [
      "2.3 Namespaces"
     ]
    },
    {
     "cell_type": "markdown",
     "metadata": {},
     "source": [
      "The variables you create are associated with a namespace. When you work in the interactive mode, the variables are in the current session's namespace. The `%who` command prints the names of the variables in the current namespace."
     ]
    },
    {
     "cell_type": "code",
     "collapsed": false,
     "input": [
      "x = 5\n",
      "y = 7\n",
      "z = 9\n",
      "%who"
     ],
     "language": "python",
     "metadata": {},
     "outputs": [
      {
       "output_type": "stream",
       "stream": "stdout",
       "text": [
        "x\ty\tz\t\n"
       ]
      }
     ],
     "prompt_number": 24
    },
    {
     "cell_type": "markdown",
     "metadata": {},
     "source": [
      "The `del` command removes variables."
     ]
    },
    {
     "cell_type": "code",
     "collapsed": false,
     "input": [
      "del x, y\n",
      "%who"
     ],
     "language": "python",
     "metadata": {},
     "outputs": [
      {
       "output_type": "stream",
       "stream": "stdout",
       "text": [
        "z\t\n"
       ]
      }
     ],
     "prompt_number": 25
    },
    {
     "cell_type": "markdown",
     "metadata": {},
     "source": [
      "In the interactive mode you can use `print` function to display the value of a variable, or just simply type the variable name."
     ]
    },
    {
     "cell_type": "code",
     "collapsed": false,
     "input": [
      "z"
     ],
     "language": "python",
     "metadata": {},
     "outputs": [
      {
       "output_type": "pyout",
       "prompt_number": 30,
       "text": [
        "9"
       ]
      }
     ],
     "prompt_number": 30
    },
    {
     "cell_type": "markdown",
     "metadata": {},
     "source": [
      "But inside a script, you can have to use the `print` function."
     ]
    },
    {
     "cell_type": "code",
     "collapsed": false,
     "input": [
      "print(z)"
     ],
     "language": "python",
     "metadata": {},
     "outputs": [
      {
       "output_type": "stream",
       "stream": "stdout",
       "text": [
        "9\n"
       ]
      }
     ],
     "prompt_number": 29
    },
    {
     "cell_type": "heading",
     "level": 2,
     "metadata": {},
     "source": [
      "2.4 More errors"
     ]
    },
    {
     "cell_type": "markdown",
     "metadata": {},
     "source": [
      "Again, when you try something new, you should make a few mistakes on purpose so you\u2019ll recognize them later.\n",
      "\n",
      "The most common error with scripts is to run a script without creating the necessary variables. For example, `fibonacci1` requires you to assign a value to n. If you don\u2019t:"
     ]
    },
    {
     "cell_type": "code",
     "collapsed": false,
     "input": [],
     "language": "python",
     "metadata": {},
     "outputs": []
    }
   ],
   "metadata": {}
  }
 ]
}