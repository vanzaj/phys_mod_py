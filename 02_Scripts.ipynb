{
 "metadata": {
  "name": "02_Scripts"
 },
 "nbformat": 3,
 "nbformat_minor": 0,
 "worksheets": [
  {
   "cells": [
    {
     "cell_type": "heading",
     "level": 1,
     "metadata": {},
     "source": [
      "Scripts"
     ]
    },
    {
     "cell_type": "heading",
     "level": 2,
     "metadata": {},
     "source": [
      "2.1 py-files"
     ]
    },
    {
     "cell_type": "markdown",
     "metadata": {},
     "source": [
      "So far we have typed all commands \u201cat the prompt,\u201d which is fine if you are not writing more than a few lines. Beyond that, you will want to store your program in a script and then **execute** (or run) the script. A script is a file that contains Python code. Typically these files have \".py\" extension. Python files are also called modules.\n",
      "\n",
      "You can create and edit scripts with any text editor, standalone (Notepad++, Sublime Text, Komodo Edit, Vim, Emacs, ...) or inside an Integrated Development Environment (Eclipse+PyDev, Visual Studio+Python Tools, ...). Most modern text editors have \"Python mode\" to help writing Python code. In [IPython notebook](http://ipython.org/notebook.html), each \"cell\" acts both an an interactive prompt and a mini text editor. It is possible to save the content of any cell into a file."
     ]
    },
    {
     "cell_type": "code",
     "collapsed": false,
     "input": [
      "%%file code/myscript.py\n",
      "x = 5\n",
      "print x"
     ],
     "language": "python",
     "metadata": {},
     "outputs": [
      {
       "output_type": "stream",
       "stream": "stdout",
       "text": [
        "Overwriting code/myscript.py\n"
       ]
      }
     ],
     "prompt_number": 3
    },
    {
     "cell_type": "markdown",
     "metadata": {},
     "source": [
      "Now we can execute the script using `%run` ipython's magic command."
     ]
    },
    {
     "cell_type": "code",
     "collapsed": false,
     "input": [
      "%run code/myscript.py"
     ],
     "language": "python",
     "metadata": {},
     "outputs": [
      {
       "output_type": "stream",
       "stream": "stdout",
       "text": [
        "5\n"
       ]
      }
     ],
     "prompt_number": 4
    },
    {
     "cell_type": "markdown",
     "metadata": {},
     "source": [
      "The variables defined in `myscript.py` are now available in our workspace."
     ]
    },
    {
     "cell_type": "code",
     "collapsed": false,
     "input": [
      "print x"
     ],
     "language": "python",
     "metadata": {},
     "outputs": [
      {
       "output_type": "stream",
       "stream": "stdout",
       "text": [
        "5\n"
       ]
      }
     ],
     "prompt_number": 5
    },
    {
     "cell_type": "markdown",
     "metadata": {},
     "source": [
      "We can also use regular `python` interpreter to execute our script (*Note:* we can do this directly from the notebook using ipython's \"!\" magic)."
     ]
    },
    {
     "cell_type": "code",
     "collapsed": false,
     "input": [
      "!echo \"python binary is\" `which python`\n",
      "!echo \"running myscript.py\"\n",
      "!python myscript.py"
     ],
     "language": "python",
     "metadata": {},
     "outputs": [
      {
       "output_type": "stream",
       "stream": "stdout",
       "text": [
        "python binary is /usr/local/bin/python\r\n"
       ]
      },
      {
       "output_type": "stream",
       "stream": "stdout",
       "text": [
        "running myscript.py\r\n"
       ]
      },
      {
       "output_type": "stream",
       "stream": "stdout",
       "text": [
        "5\r\n"
       ]
      }
     ],
     "prompt_number": 4
    },
    {
     "cell_type": "markdown",
     "metadata": {},
     "source": [
      "If you try executing nonexisting file, you will get an error message:"
     ]
    },
    {
     "cell_type": "code",
     "collapsed": false,
     "input": [
      "%run anotherscript.py"
     ],
     "language": "python",
     "metadata": {},
     "outputs": [
      {
       "output_type": "stream",
       "stream": "stderr",
       "text": [
        "ERROR: File `u'anotherscript.py'` not found."
       ]
      }
     ],
     "prompt_number": 5
    },
    {
     "cell_type": "markdown",
     "metadata": {},
     "source": [
      "Make sure you didn't misspell the script file name and that your current working directory contains the script."
     ]
    },
    {
     "cell_type": "code",
     "collapsed": false,
     "input": [
      "!ls code/my*.py"
     ],
     "language": "python",
     "metadata": {},
     "outputs": [
      {
       "output_type": "stream",
       "stream": "stdout",
       "text": [
        "code/myscript.py\r\n"
       ]
      }
     ],
     "prompt_number": 7
    },
    {
     "cell_type": "markdown",
     "metadata": {},
     "source": [
      "When you write scripts as modules, Python will looks for them in it's search path."
     ]
    },
    {
     "cell_type": "code",
     "collapsed": false,
     "input": [
      "import sys\n",
      "sys.path.append('/path/to/my/python/code')\n",
      "sys.path"
     ],
     "language": "python",
     "metadata": {},
     "outputs": [
      {
       "output_type": "pyout",
       "prompt_number": 7,
       "text": [
        "['',\n",
        " '/usr/local/Cellar/python/2.7.4/Frameworks/Python.framework/Versions/2.7/lib/python2.7/site-packages/pip-1.3.1-py2.7.egg',\n",
        " '/usr/local/lib/python2.7/site-packages/pip-1.3.1-py2.7.egg',\n",
        " '/usr/local/Cellar/python/2.7.4/Frameworks/Python.framework/Versions/2.7/lib/python27.zip',\n",
        " '/usr/local/Cellar/python/2.7.4/Frameworks/Python.framework/Versions/2.7/lib/python2.7',\n",
        " '/usr/local/Cellar/python/2.7.4/Frameworks/Python.framework/Versions/2.7/lib/python2.7/plat-darwin',\n",
        " '/usr/local/Cellar/python/2.7.4/Frameworks/Python.framework/Versions/2.7/lib/python2.7/plat-mac',\n",
        " '/usr/local/Cellar/python/2.7.4/Frameworks/Python.framework/Versions/2.7/lib/python2.7/plat-mac/lib-scriptpackages',\n",
        " '/usr/local/Cellar/python/2.7.4/Frameworks/Python.framework/Versions/2.7/lib/python2.7/lib-tk',\n",
        " '/usr/local/Cellar/python/2.7.4/Frameworks/Python.framework/Versions/2.7/lib/python2.7/lib-old',\n",
        " '/usr/local/Cellar/python/2.7.4/Frameworks/Python.framework/Versions/2.7/lib/python2.7/lib-dynload',\n",
        " '/Library/Python/2.7/site-packages',\n",
        " '/usr/local/lib/python2.7/site-packages',\n",
        " '/usr/local/lib/python2.7/site-packages/IPython/extensions',\n",
        " '/path/to/my/python/code']"
       ]
      }
     ],
     "prompt_number": 7
    },
    {
     "cell_type": "markdown",
     "metadata": {},
     "source": [
      "*Note 1:* There are multiple ways to configure Python's search path.  \n",
      "*Note 2:* I'm currently using OS X 10.8.3 with Python 2.7.4 installed using [homebrew](http://mxcl.github.io/homebrew/). Your results will very likely look different.\n",
      "\n",
      "Keeping track of your scripts can be a pain. To keep things simple, for now, I suggest putting all of your scripts in one \"sensibly\" named directory, for example `/Users/joe/dev/python` or `/home/joe/dev/python` or `C:\\joe\\dev\\python` depending on your operating system."
     ]
    },
    {
     "cell_type": "markdown",
     "metadata": {},
     "source": [
      "-----\n",
      "\n",
      "**Exercise 2.1** The Fibonacci sequence, denoted $F$, is described by the equations* $F_1 = 1$, $F_2 = 1$, and for $i \\ge 3$, $F_{i} = F_{i-1} + F_{i-2}$. The elements of this sequence occur naturally in many plants, particularly those with petals or scales arranged in the form of a\n",
      "logarithmic spiral.\n",
      "\n",
      "The following expression computes the nth Fibonacci number:\n",
      "\n",
      "$$\n",
      "F_n = \\frac{1}{\\sqrt{5}}\n",
      "\\left[\n",
      "\\left( \\frac{1 + \\sqrt{5}}{2} \\right)^{n} -\n",
      "\\left( \\frac{1 - \\sqrt{5}}{2} \\right)^{n}\n",
      "\\right]\n",
      "$$\n",
      "\n",
      "Translate this expression into Python and store your code in a file named `fibonacci1`. At the prompt, set the value of `n` to 10 and then run your script. \n",
      "At the end of your script assign the value of* $F_n$ *to a variable named `fib_value` and display the value on the screeen . (The correct value of $F_{10}$ is 55).\n",
      "\n",
      "-----"
     ]
    },
    {
     "cell_type": "heading",
     "level": 2,
     "metadata": {},
     "source": [
      "2.2 Why scripts?"
     ]
    },
    {
     "cell_type": "markdown",
     "metadata": {},
     "source": [
      "The most common reasons to use scripts are:\n",
      "\n",
      "- When you are writing more than a couple of lines of code, it might take a few tries to get everything right. \n",
      "  Putting your code in a script makes it easier to edit than typing it at the prompt.\n",
      "  \n",
      "  On the other hand (if you're not using IPython Notebook), it can be a pain to switch back and forth between the Command Prompt and the Editor. \n",
      "  Try to arrange your windows so you can see the Editor and the Command Window at the same time, and use the keyboard shortcut or the mouse to switch between them.\n",
      "\n",
      "- If you choose good names for your scripts, you will be able to remember which script does what, and you might be able to reuse a script from one project to the next.\n",
      "\n",
      "- If you run a script repeatedly, it is faster to type the name of the script than to retype the code!\n",
      "\n",
      "\n",
      "Unfortunately, the great power of scripts comes with great responsibility, which is that you have to make sure that the code you are running is the code you think you are running.\n",
      "\n",
      "First, whenever you edit your script, you have to save it before you run it. If you forget to save it, you will be running the old version. Second, you have to \"tell\" Python to reload your code (look for `reload()` or `%autoreload` documentation). If you're using IPython notebook, don't forget to \"Run\" the cell to make it's content available in other cells.\n",
      "\n",
      "Also, whenever you start a new script, you can start it with a simple print statement, like `print 42`, that produces a visible effect. Then run your script and confirm that you get what you expect. Python comes with a few built-in functions and a huge number of functions available in modules. It is easy to write a script that has the same name as an existing function, and if you are not careful, you might find yourself running an existing function instead of your script. There is a concept of namespaces in Python that helps to avoid \"name collisions\", but it's still your responsibility to make sure they don't happen.\n",
      "\n",
      "If the code you are running is not the code you are looking at, you will find debugging a frustrating exercise! And that brings us to the Third Theorem of Debugging:\n",
      "\n",
      "> You must always be 100% sure that the code you are running is the code you think you are running.\n"
     ]
    },
    {
     "cell_type": "heading",
     "level": 2,
     "metadata": {},
     "source": [
      "2.3 Namespaces"
     ]
    },
    {
     "cell_type": "markdown",
     "metadata": {},
     "source": [
      "The variables you create are associated with a namespace. When you work in the interactive mode, the variables are in the current session's namespace. The `%who` command prints the names of the variables in the current namespace."
     ]
    },
    {
     "cell_type": "code",
     "collapsed": false,
     "input": [
      "x = 5\n",
      "y = 7\n",
      "z = 9\n",
      "%who"
     ],
     "language": "python",
     "metadata": {},
     "outputs": [
      {
       "output_type": "stream",
       "stream": "stdout",
       "text": [
        "x\ty\tz\t\n"
       ]
      }
     ],
     "prompt_number": 24
    },
    {
     "cell_type": "markdown",
     "metadata": {},
     "source": [
      "The `del` command removes variables."
     ]
    },
    {
     "cell_type": "code",
     "collapsed": false,
     "input": [
      "del x, y\n",
      "%who"
     ],
     "language": "python",
     "metadata": {},
     "outputs": [
      {
       "output_type": "stream",
       "stream": "stdout",
       "text": [
        "z\t\n"
       ]
      }
     ],
     "prompt_number": 25
    },
    {
     "cell_type": "markdown",
     "metadata": {},
     "source": [
      "In the interactive mode you can use `print` function to display the value of a variable, or just simply type the variable name."
     ]
    },
    {
     "cell_type": "code",
     "collapsed": false,
     "input": [
      "z"
     ],
     "language": "python",
     "metadata": {},
     "outputs": [
      {
       "output_type": "pyout",
       "prompt_number": 30,
       "text": [
        "9"
       ]
      }
     ],
     "prompt_number": 30
    },
    {
     "cell_type": "markdown",
     "metadata": {},
     "source": [
      "But inside a script, you have to use the `print` function."
     ]
    },
    {
     "cell_type": "code",
     "collapsed": false,
     "input": [
      "print(z)"
     ],
     "language": "python",
     "metadata": {},
     "outputs": [
      {
       "output_type": "stream",
       "stream": "stdout",
       "text": [
        "9\n"
       ]
      }
     ],
     "prompt_number": 29
    },
    {
     "cell_type": "heading",
     "level": 2,
     "metadata": {},
     "source": [
      "2.4 More errors"
     ]
    },
    {
     "cell_type": "markdown",
     "metadata": {},
     "source": [
      "Again, when you try something new, you should make a few mistakes on purpose so you\u2019ll recognize them later.\n",
      "\n",
      "A very common error  is misnaming variables (forgetting '_' or not paying attention to the case)."
     ]
    },
    {
     "cell_type": "code",
     "collapsed": false,
     "input": [
      "F_n = 42\n",
      "print(Fn)"
     ],
     "language": "python",
     "metadata": {},
     "outputs": [
      {
       "ename": "NameError",
       "evalue": "name 'Fn' is not defined",
       "output_type": "pyerr",
       "traceback": [
        "\u001b[0;31m---------------------------------------------------------------------------\u001b[0m\n\u001b[0;31mNameError\u001b[0m                                 Traceback (most recent call last)",
        "\u001b[0;32m<ipython-input-2-10499ba4c024>\u001b[0m in \u001b[0;36m<module>\u001b[0;34m()\u001b[0m\n\u001b[1;32m      1\u001b[0m \u001b[0mF_n\u001b[0m \u001b[0;34m=\u001b[0m \u001b[0;36m42\u001b[0m\u001b[0;34m\u001b[0m\u001b[0m\n\u001b[0;32m----> 2\u001b[0;31m \u001b[0;32mprint\u001b[0m\u001b[0;34m(\u001b[0m\u001b[0mFn\u001b[0m\u001b[0;34m)\u001b[0m\u001b[0;34m\u001b[0m\u001b[0m\n\u001b[0m",
        "\u001b[0;31mNameError\u001b[0m: name 'Fn' is not defined"
       ]
      }
     ],
     "prompt_number": 2
    },
    {
     "cell_type": "markdown",
     "metadata": {},
     "source": [
      "They happen when writing long scripts and not having a consitent nameing (ex. using `t1` and `t_2`). Notice in the traceback output that  Python indicates the line number where it detects a problem.\n",
      "\n",
      "This information can be helpful, but beware! Python is telling you where the error was discovered, not where the error is.\n",
      "\n",
      "Which brings us to the Fourth Theorem of Debugging:\n",
      "\n",
      "> Error messages tell you where the problem was discovered, not where it was caused.\n",
      "\n",
      "The object of the game is to find the cause and fix it\u2014not just to make the error message go away."
     ]
    },
    {
     "cell_type": "heading",
     "level": 2,
     "metadata": {},
     "source": [
      "2.5 Pre- and post-conditions"
     ]
    },
    {
     "cell_type": "markdown",
     "metadata": {},
     "source": [
      "Every script should contain some information that explains what it does, and what the requirements are for it to run. In Python this information can be put into comments or into a docstring. For example, if you did exercise 2.1 and saved your code into a script named `fibonacci1.py`, you might add the following at the beginning of the script: \n",
      "\n",
      "    # Computes the nth Fibonacci number\n",
      "    # precondition: n is hardcoded, don't forget to change to get the desired result\n",
      "    # postcondition: f_n contains the final result\n",
      "\n",
      "    n = 10\n",
      "\n",
      "Or the same thing using docstring:\n",
      "\n",
      "    '''Computes the nth Fibonacci number\n",
      "    precondition: n is hardcoded, don\\'t forget to change to get the desired result.\n",
      "    postcondition: f_n contains the final result'''\n",
      "\n",
      "    n =10\n",
      "\n",
      "A **precondition** is something that must be true, when the script starts, in order for it to work correctly. A **postcondition** is something that will be true when the script completes.\n",
      "\n",
      "The difference between a comment and a docstring at the beginning of a script, is that a docstring will be used by Python as script's documentation available via `help(fibonacci1)`.\n"
     ]
    },
    {
     "cell_type": "heading",
     "level": 2,
     "metadata": {},
     "source": [
      "2.6 Assignment and equality"
     ]
    },
    {
     "cell_type": "markdown",
     "metadata": {},
     "source": [
      "In mathematics the equals sign means that the two sides of the equation have the same value. In Python an assignment statement looks like a mathematical equality, but it\u2019s not.\n",
      "\n",
      "One difference is that the sides of an assignment statement are not interchangeable. The right side can be any legal expression, but the left side has to be a variable. So this is legal:"
     ]
    },
    {
     "cell_type": "code",
     "collapsed": false,
     "input": [
      "y = 1\n",
      "x = y+1\n",
      "print x"
     ],
     "language": "python",
     "metadata": {},
     "outputs": [
      {
       "output_type": "stream",
       "stream": "stdout",
       "text": [
        "2\n"
       ]
      }
     ],
     "prompt_number": 3
    },
    {
     "cell_type": "markdown",
     "metadata": {},
     "source": [
      "But this is not:"
     ]
    },
    {
     "cell_type": "code",
     "collapsed": false,
     "input": [
      "y+1 = x"
     ],
     "language": "python",
     "metadata": {},
     "outputs": [
      {
       "ename": "SyntaxError",
       "evalue": "can't assign to operator (<ipython-input-5-5a07a90870de>, line 1)",
       "output_type": "pyerr",
       "traceback": [
        "\u001b[0;36m  File \u001b[0;32m\"<ipython-input-5-5a07a90870de>\"\u001b[0;36m, line \u001b[0;32m1\u001b[0m\n\u001b[0;31mSyntaxError\u001b[0m\u001b[0;31m:\u001b[0m can't assign to operator\n"
       ]
      }
     ],
     "prompt_number": 5
    },
    {
     "cell_type": "markdown",
     "metadata": {},
     "source": [
      "Another difference is that an assignment statement is only temporary, in the following sense. When you assign `x = y+1`, you get the current value of `y`. If `y` changes later, `x` does not get updated.\n",
      "\n",
      "A third difference is that a mathematical equality is a statement that may or may not be true. For example, $y = y + 1$ is a statement that happens to be false for all real values of $y$. In Python, `y = y+1` is a sensible and useful assignment statement. It reads the current value of `y`, adds one, and replaces the old value with the new value."
     ]
    },
    {
     "cell_type": "code",
     "collapsed": false,
     "input": [
      "y = 1\n",
      "y = y+1\n",
      "print y"
     ],
     "language": "python",
     "metadata": {},
     "outputs": [
      {
       "output_type": "stream",
       "stream": "stdout",
       "text": [
        "2\n"
       ]
      }
     ],
     "prompt_number": 6
    },
    {
     "cell_type": "markdown",
     "metadata": {},
     "source": [
      "When you read Python code, you might find it helpful to pronounce the equals sign \"gets\" or \"is\" rather than \"equals.\" So `x = y+1` is pronounced \"x gets the value of y plus one.\"\n",
      "\n",
      "To test your understanding of assignment statements, try this exercise:\n",
      "\n",
      "-----\n",
      "\n",
      "**Exercise 2.2** Write a few lines of code that swap the values of x and y. Put your code in a script called `swap.py` and test it.\n",
      "\n",
      "-----"
     ]
    },
    {
     "cell_type": "heading",
     "level": 2,
     "metadata": {},
     "source": [
      "2.7 Incremental development"
     ]
    },
    {
     "cell_type": "markdown",
     "metadata": {},
     "source": [
      "When you start writing scripts that are more than a few lines, you might find yourself spending more and more time debugging. The more code you write before you start debugging, the harder it is to find the problem.\n",
      "\n",
      "**Incremental development** is a way of programming that tries to minimize the pain of debugging. The fundamental steps are:\n",
      "\n",
      "1. Always start with a working program. If you have an example from a book or a program you wrote that is similar to what you are working on, start with that. Otherwise, start with something you know is correct, like `x = 5`. Run the program and confirm that you are running the program you think you are running.  \n",
      "  This step is important, because in most environments there are lots of little things that can trip you up when you start a new project. Get them out of the way so you can focus on programming.\n",
      "\n",
      "2. Make one small, testable change at a time. A \"testable\" change is one that displays something on the screen (or has some other effect) that you can check. Ideally, you should know what the correct answer is, or be able to check it by performing another computation.\n",
      "\n",
      "3. Run the program and see if the change worked. If so, go back to Step 2. If not, you will have to do some debugging, but if the change you made was small, it shouldn\u2019t take long to find the problem.\n",
      "\n",
      "\n",
      "When this process works, you will find that your changes usually work the first time, or the problem is obvious. That\u2019s a good thing, and it brings us to the Fifth Theorem of Debugging:\n",
      "\n",
      "> The best kind of debugging is the kind you don\u2019t have to do.\n",
      "\n",
      "In practice, there are two problems with incremental development:\n",
      "\n",
      "* Sometimes you have to write extra code to generate visible output that you can check. This extra code is called **scaffolding** because you use it to build the program and then remove it when you are done. But time you save on debugging is almost always worth the time you spend on scaffolding.\n",
      "\n",
      "* When you are getting started, it is usually not obvious how to choose the steps that get from `x = 5` to the program you are trying to write. There is an extended example in Section 5.7.[ADD LINK]\n",
      "\n",
      "If you find yourself writing more than a few lines of code before you start testing, and you are spending a lot of time debugging, you should try incremental development.\n"
     ]
    },
    {
     "cell_type": "heading",
     "level": 2,
     "metadata": {},
     "source": [
      "2.8 Unit testing"
     ]
    },
    {
     "cell_type": "markdown",
     "metadata": {},
     "source": [
      "In large software projects, **unit testing** is the process of testing software components in isolation before putting them together.\n",
      "\n",
      "The programs we have seen so far are not big enough to need unit testing, but the same principle applies when you are working with a new function or a new language feature for the first time. You should test it in isolation before you put it into your program.\n",
      "\n",
      "For example, suppose you know that `x` is the sine of some angle and you want to find the angle. You find the function `math.asin`, and you are pretty sure it computes the inverse sine function. Pretty sure is not good enough; you want to be very sure.\n",
      "Since we know $\\sin{0} = 0$, we could try"
     ]
    },
    {
     "cell_type": "code",
     "collapsed": false,
     "input": [
      "import math\n",
      "math.asin(0)"
     ],
     "language": "python",
     "metadata": {},
     "outputs": [
      {
       "output_type": "pyout",
       "prompt_number": 8,
       "text": [
        "0.0"
       ]
      }
     ],
     "prompt_number": 8
    },
    {
     "cell_type": "markdown",
     "metadata": {},
     "source": [
      "which is correct. Also, we know that the sine of 90 degrees is 1, so if we try `asin(1)`, we expect the answer to be 90, right?"
     ]
    },
    {
     "cell_type": "code",
     "collapsed": false,
     "input": [
      "math.asin(1)"
     ],
     "language": "python",
     "metadata": {},
     "outputs": [
      {
       "output_type": "pyout",
       "prompt_number": 9,
       "text": [
        "1.5707963267948966"
       ]
      }
     ],
     "prompt_number": 9
    },
    {
     "cell_type": "markdown",
     "metadata": {},
     "source": [
      "Oops. We forgot that the trig functions in Python work in radians, not degrees. So the correct answer is $\\pi/2$, which we can confirm by dividing through by pi:"
     ]
    },
    {
     "cell_type": "code",
     "collapsed": false,
     "input": [
      "math.asin(1)/math.pi"
     ],
     "language": "python",
     "metadata": {},
     "outputs": [
      {
       "output_type": "pyout",
       "prompt_number": 10,
       "text": [
        "0.5"
       ]
      }
     ],
     "prompt_number": 10
    },
    {
     "cell_type": "markdown",
     "metadata": {},
     "source": [
      "With this kind of unit testing, you are not really checking for errors in Python, you are checking your understanding. If you make an error because you are confused about how Python works, it might take a long time to find, because when you look at the code, it looks right.\n",
      "\n",
      "Which brings us to the Sixth Theorem of Debugging:\n",
      "\n",
      "> The worst bugs aren\u2019t in your code; they are in your head."
     ]
    },
    {
     "cell_type": "heading",
     "level": 2,
     "metadata": {},
     "source": [
      "2.9 Glossary"
     ]
    },
    {
     "cell_type": "markdown",
     "metadata": {},
     "source": [
      "**py-file:** A file that contains a Python program.\n",
      "\n",
      "**script:** A py-file that contains a sequence of Python commands.\n",
      "\n",
      "**search path:** The list of directories where Pyhon looks for py-files.\n",
      "\n",
      "**namespace:** {TODO}\n",
      "\n",
      "**precondition:** Something that must be true when the script starts, in order for it to work correctly.\n",
      "\n",
      "**postcondition:** Something that will be true when the script completes.\n",
      "\n",
      "**incremental development:** A way of programming by making a series of small, testable changes.\n",
      "\n",
      "**scaffolding:** Code you write to help you program or debug, but which is not part of the finished program.\n",
      "\n",
      "**unit testing:** A process of testing software by testing each component in iso- lation."
     ]
    },
    {
     "cell_type": "heading",
     "level": 2,
     "metadata": {},
     "source": [
      "2.10 Exercises"
     ]
    },
    {
     "cell_type": "markdown",
     "metadata": {},
     "source": [
      "-----\n",
      "\n",
      "**Exercise 2.3** Imagine that you are the owner of a car rental company with two locations, Albany and Boston. Some of your customers do \"one-way rentals,\" picking up a car in Albany and returning it in Boston, or the other way around. Over time, you have observed that each week 5% of the cars in Albany are dropped off in Boston, and 3% of the cars in Boston get dropped off in Albany. At the beginning of the year, there are 150 cars at each location.\n",
      "\n",
      "Write a script called `car_update.py` that updates the number of cars in each location from one week to the next. The precondition is that the variables `a` and `b` contain the number of cars in each location at the beginning of the week. The postcondition is that `a` and `b` have been modified to reflect the number of cars that moved.\n",
      "\n",
      "To test your program, initialize `a` and `b` at the prompt and then execute the script. The script should display the updated values of `a` and `b`, but not any intermediate variables.\n",
      "\n",
      "_Note:_ cars are countable things, so `a` and `b` should always be integer values. You might want to use the `round` function to compute the number of cars that move during each week.\n",
      "\n",
      "If you execute your script repeatedly, you can simulate the passage of time from week to week. What do you think will happen to the number of cars? Will all the cars end up in one place? Will the number of cars reach an equilibrium, or will it oscillate from week to week?\n",
      "\n",
      "In the next chapter we will see how to execute your script automatically, and how to plot the values of `a` and `b` versus time.\n",
      "\n",
      "-----"
     ]
    },
    {
     "cell_type": "code",
     "collapsed": false,
     "input": [],
     "language": "python",
     "metadata": {},
     "outputs": []
    }
   ],
   "metadata": {}
  }
 ]
}