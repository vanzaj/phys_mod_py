{
 "metadata": {
  "name": "02_Scripts"
 },
 "nbformat": 3,
 "nbformat_minor": 0,
 "worksheets": [
  {
   "cells": [
    {
     "cell_type": "heading",
     "level": 1,
     "metadata": {},
     "source": [
      "Scripts"
     ]
    },
    {
     "cell_type": "heading",
     "level": 2,
     "metadata": {},
     "source": [
      "2.1 py-files"
     ]
    },
    {
     "cell_type": "markdown",
     "metadata": {},
     "source": [
      "So far we have typed all of our programs \u201cat the prompt,\u201d which is fine if you are not writing more than a few lines. Beyond that, you will want to store your program in a script and then **execute** (or run) the script. A script is a file that contains Python code. Typically these files have \".py\" extension. Python files are also called modules.\n",
      "\n",
      "You can create and edit scripts with any text editor, standalone (Notepad++, Sublime Text, Komodo Edit, Vim, Emacs, ...) or inside an Integrated Development Environment (Eclipse+PyDev, Visual Studio+Python Tools, ...). Most modern text editors have \"Python mode\" to help writing Python code.\n",
      "\n",
      "Type the following code in the editor\n",
      "\n",
      "    x = 5\n",
      "    print(x)\n",
      "\n",
      "Make sure there are no spaces in front of `x`. Python is particular about whitespaces as we'll see later. Now save the file as `myscript.py` into some directory (\"Desktop\" is not the best location on your hard drive for keeping scripts)."
     ]
    }
   ],
   "metadata": {}
  }
 ]
}