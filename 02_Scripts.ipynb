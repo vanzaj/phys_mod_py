{
 "metadata": {
  "name": "02_Scripts"
 },
 "nbformat": 3,
 "nbformat_minor": 0,
 "worksheets": [
  {
   "cells": [
    {
     "cell_type": "heading",
     "level": 1,
     "metadata": {},
     "source": [
      "Scripts"
     ]
    },
    {
     "cell_type": "heading",
     "level": 2,
     "metadata": {},
     "source": [
      "2.1 py-files"
     ]
    },
    {
     "cell_type": "markdown",
     "metadata": {},
     "source": [
      "So far we have typed all commands \u201cat the prompt,\u201d which is fine if you are not writing more than a few lines. Beyond that, you will want to store your program in a script and then **execute** (or run) the script. A script is a file that contains Python code. Typically these files have \".py\" extension. Python files are also called modules.\n",
      "\n",
      "You can create and edit scripts with any text editor, standalone (Notepad++, Sublime Text, Komodo Edit, Vim, Emacs, ...) or inside an Integrated Development Environment (Eclipse+PyDev, Visual Studio+Python Tools, ...). Most modern text editors have \"Python mode\" to help writing Python code. In [IPython notebook](http://ipython.org/notebook.html), each \"cell\" acts both an an interactive prompt and a mini text editor. It's possible to save the content of any cell into a file."
     ]
    },
    {
     "cell_type": "code",
     "collapsed": false,
     "input": [
      "%%file myscript.py\n",
      "x = 5\n",
      "print x"
     ],
     "language": "python",
     "metadata": {},
     "outputs": [
      {
       "output_type": "stream",
       "stream": "stdout",
       "text": [
        "Overwriting myscript.py\n"
       ]
      }
     ],
     "prompt_number": 1
    },
    {
     "cell_type": "markdown",
     "metadata": {},
     "source": [
      "Now we can execute the script using `%run` ipython's magic command."
     ]
    },
    {
     "cell_type": "code",
     "collapsed": false,
     "input": [
      "%run myscript.py"
     ],
     "language": "python",
     "metadata": {},
     "outputs": [
      {
       "output_type": "stream",
       "stream": "stdout",
       "text": [
        "5\n"
       ]
      }
     ],
     "prompt_number": 2
    },
    {
     "cell_type": "markdown",
     "metadata": {},
     "source": [
      "The variables defined in `myscript.py` are now available in our workspace."
     ]
    },
    {
     "cell_type": "code",
     "collapsed": false,
     "input": [
      "print x"
     ],
     "language": "python",
     "metadata": {},
     "outputs": [
      {
       "output_type": "stream",
       "stream": "stdout",
       "text": [
        "5\n"
       ]
      }
     ],
     "prompt_number": 3
    },
    {
     "cell_type": "markdown",
     "metadata": {},
     "source": [
      "We can also use regular `python` interpreter to execute our script."
     ]
    },
    {
     "cell_type": "code",
     "collapsed": false,
     "input": [
      "!echo \"python binary is\" `which python`\n",
      "!echo \"running myscript.py\"\n",
      "!python myscript.py"
     ],
     "language": "python",
     "metadata": {},
     "outputs": [
      {
       "output_type": "stream",
       "stream": "stdout",
       "text": [
        "python binary is /usr/local/bin/python\r\n"
       ]
      },
      {
       "output_type": "stream",
       "stream": "stdout",
       "text": [
        "running myscript.py\r\n"
       ]
      },
      {
       "output_type": "stream",
       "stream": "stdout",
       "text": [
        "5\r\n"
       ]
      }
     ],
     "prompt_number": 4
    },
    {
     "cell_type": "markdown",
     "metadata": {},
     "source": [
      "If you try running nonexisting file, you will get an error message:"
     ]
    },
    {
     "cell_type": "code",
     "collapsed": false,
     "input": [
      "%run anotherscript.py"
     ],
     "language": "python",
     "metadata": {},
     "outputs": [
      {
       "output_type": "stream",
       "stream": "stderr",
       "text": [
        "ERROR: File `u'anotherscript.py'` not found."
       ]
      }
     ],
     "prompt_number": 5
    },
    {
     "cell_type": "markdown",
     "metadata": {},
     "source": [
      "Make sure you didn't misspell the script file name and that your current working directory contains the script."
     ]
    },
    {
     "cell_type": "code",
     "collapsed": false,
     "input": [
      "!ls my*.py"
     ],
     "language": "python",
     "metadata": {},
     "outputs": [
      {
       "output_type": "stream",
       "stream": "stdout",
       "text": [
        "myscript.py\r\n"
       ]
      }
     ],
     "prompt_number": 6
    },
    {
     "cell_type": "markdown",
     "metadata": {},
     "source": [
      "When you write scripts as modules, Python will looks for them in it's search path."
     ]
    },
    {
     "cell_type": "code",
     "collapsed": false,
     "input": [
      "import sys\n",
      "sys.path.append('/path/to/my/python/code')\n",
      "sys.path"
     ],
     "language": "python",
     "metadata": {},
     "outputs": [
      {
       "output_type": "pyout",
       "prompt_number": 7,
       "text": [
        "['',\n",
        " '/usr/local/Cellar/python/2.7.4/Frameworks/Python.framework/Versions/2.7/lib/python2.7/site-packages/pip-1.3.1-py2.7.egg',\n",
        " '/usr/local/lib/python2.7/site-packages/pip-1.3.1-py2.7.egg',\n",
        " '/usr/local/Cellar/python/2.7.4/Frameworks/Python.framework/Versions/2.7/lib/python27.zip',\n",
        " '/usr/local/Cellar/python/2.7.4/Frameworks/Python.framework/Versions/2.7/lib/python2.7',\n",
        " '/usr/local/Cellar/python/2.7.4/Frameworks/Python.framework/Versions/2.7/lib/python2.7/plat-darwin',\n",
        " '/usr/local/Cellar/python/2.7.4/Frameworks/Python.framework/Versions/2.7/lib/python2.7/plat-mac',\n",
        " '/usr/local/Cellar/python/2.7.4/Frameworks/Python.framework/Versions/2.7/lib/python2.7/plat-mac/lib-scriptpackages',\n",
        " '/usr/local/Cellar/python/2.7.4/Frameworks/Python.framework/Versions/2.7/lib/python2.7/lib-tk',\n",
        " '/usr/local/Cellar/python/2.7.4/Frameworks/Python.framework/Versions/2.7/lib/python2.7/lib-old',\n",
        " '/usr/local/Cellar/python/2.7.4/Frameworks/Python.framework/Versions/2.7/lib/python2.7/lib-dynload',\n",
        " '/Library/Python/2.7/site-packages',\n",
        " '/usr/local/lib/python2.7/site-packages',\n",
        " '/usr/local/lib/python2.7/site-packages/IPython/extensions',\n",
        " '/path/to/my/python/code']"
       ]
      }
     ],
     "prompt_number": 7
    },
    {
     "cell_type": "markdown",
     "metadata": {},
     "source": [
      "(*Note 1:* There are multiple ways to configure Python's search path.)\n",
      "(*Note 2:* I'm currently using OS X 10.8.3 with Python 2.7.4 installed using [homebrew](). Your results will very likely look different.)\n",
      "\n",
      "Keeping track of your scripts can be a pain. To keep things simple, for now, I suggest putting all of your scripts in on \"sensibly\" named directory, for example `/Users/joe/dev/python` or `/home/joe/dev/python` or `C:\\joe\\dev\\python` depending on your operating system."
     ]
    },
    {
     "cell_type": "code",
     "collapsed": false,
     "input": [
      "%%file?"
     ],
     "language": "python",
     "metadata": {},
     "outputs": [],
     "prompt_number": 9
    },
    {
     "cell_type": "code",
     "collapsed": false,
     "input": [],
     "language": "python",
     "metadata": {},
     "outputs": [],
     "prompt_number": 9
    }
   ],
   "metadata": {}
  }
 ]
}